{
 "cells": [
  {
   "cell_type": "code",
   "execution_count": null,
   "id": "468563ab-0b78-4eb2-8141-53614c1cb634",
   "metadata": {},
   "outputs": [],
   "source": [
    "print('apa ajadeh')"
   ]
  },
  {
   "cell_type": "code",
   "execution_count": 4,
   "id": "b69881ec-7b2e-4802-b05a-24a181e4795b",
   "metadata": {},
   "outputs": [
    {
     "data": {
      "text/plain": [
       "float"
      ]
     },
     "execution_count": 4,
     "metadata": {},
     "output_type": "execute_result"
    }
   ],
   "source": [
    "type(0.25)\n"
   ]
  },
  {
   "cell_type": "code",
   "execution_count": 6,
   "id": "f0c386ac-da4a-4b68-9c9b-8fb77da2cbab",
   "metadata": {},
   "outputs": [
    {
     "name": "stdout",
     "output_type": "stream",
     "text": [
      "saya andi saya andi saya andi saya andi \n"
     ]
    }
   ],
   "source": [
    "print('saya andi '*4)"
   ]
  },
  {
   "cell_type": "code",
   "execution_count": 7,
   "id": "e33bf903-2579-4b65-98a5-00d458a67825",
   "metadata": {},
   "outputs": [
    {
     "name": "stdout",
     "output_type": "stream",
     "text": [
      "nama saya andi\n"
     ]
    }
   ],
   "source": [
    "print('nama saya ' + 'andi')"
   ]
  },
  {
   "cell_type": "code",
   "execution_count": 12,
   "id": "876d7c9e-5cc5-4f99-bf28-681a2e00550b",
   "metadata": {},
   "outputs": [
    {
     "name": "stdout",
     "output_type": "stream",
     "text": [
      "['a', 'b', 'c', 'd', 'e', 'adas']\n"
     ]
    }
   ],
   "source": [
    "buah = ['a', 'b', 'c','d','e']\n",
    "buah.append(\"adas\")\n",
    "print(buah)"
   ]
  },
  {
   "cell_type": "markdown",
   "id": "a3292c2c-9b57-4ae1-bcff-10499009a497",
   "metadata": {
    "tags": []
   },
   "source": [
    "## Tes Numpy"
   ]
  },
  {
   "cell_type": "code",
   "execution_count": 4,
   "id": "c8a7ca09-f6d3-4eee-b2ff-68e89cd0d658",
   "metadata": {},
   "outputs": [
    {
     "name": "stdout",
     "output_type": "stream",
     "text": [
      "[1 2 3 4]\n"
     ]
    }
   ],
   "source": [
    "a = np.array([[1 , 2, 3, 4], [5, 6, 7, 8], [9, 10, 11, 12]])\n",
    "print (a[0])"
   ]
  },
  {
   "cell_type": "code",
   "execution_count": null,
   "id": "dec55b36-811d-4040-aacb-5d6393cc83c5",
   "metadata": {},
   "outputs": [],
   "source": []
  }
 ],
 "metadata": {
  "kernelspec": {
   "display_name": "Python 3 (ipykernel)",
   "language": "python",
   "name": "python3"
  },
  "language_info": {
   "codemirror_mode": {
    "name": "ipython",
    "version": 3
   },
   "file_extension": ".py",
   "mimetype": "text/x-python",
   "name": "python",
   "nbconvert_exporter": "python",
   "pygments_lexer": "ipython3",
   "version": "3.9.13"
  }
 },
 "nbformat": 4,
 "nbformat_minor": 5
}
