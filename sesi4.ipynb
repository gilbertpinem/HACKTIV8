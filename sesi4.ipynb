{
 "cells": [
  {
   "cell_type": "markdown",
   "id": "426ac0b2-c97c-42ed-aafe-bfbaac90f135",
   "metadata": {},
   "source": [
    "## Tiba tiba QUISZ"
   ]
  },
  {
   "cell_type": "code",
   "execution_count": 2,
   "id": "9a17eba6-8da0-4fd5-af26-e09b1f18623e",
   "metadata": {},
   "outputs": [
    {
     "name": "stdin",
     "output_type": "stream",
     "text": [
      "Masukkan angka pertama:  asd\n"
     ]
    },
    {
     "name": "stdout",
     "output_type": "stream",
     "text": [
      "Input salah\n"
     ]
    },
    {
     "name": "stdin",
     "output_type": "stream",
     "text": [
      "Masukkan angka pertama:  qwe\n"
     ]
    },
    {
     "name": "stdout",
     "output_type": "stream",
     "text": [
      "Input salah\n"
     ]
    },
    {
     "name": "stdin",
     "output_type": "stream",
     "text": [
      "Masukkan angka pertama:  12\n",
      "Masukkan pilihan operator:  x\n",
      "Masukkan angka kedua:  13\n"
     ]
    },
    {
     "name": "stdout",
     "output_type": "stream",
     "text": [
      "12 x 13 = 156\n"
     ]
    }
   ],
   "source": [
    "def tambah(a, b):\n",
    "    return a + b\n",
    "\n",
    "def kurang(a, b):\n",
    "    return a - b\n",
    "\n",
    "def kali(a, b):\n",
    "    return a * b\n",
    "\n",
    "def bagi(a, b):\n",
    "    return a / b\n",
    "\n",
    "def pangkat(a, b):\n",
    "    return a ** b\n",
    "\n",
    "while True:\n",
    "    try:\n",
    "        angka1 = int(input(\"Masukkan angka pertama: \"))\n",
    "        break\n",
    "    except ValueError:\n",
    "        print(\"Input salah\")\n",
    "\n",
    "operator = input(\"Masukkan pilihan operator: \")\n",
    "\n",
    "while True:\n",
    "    try:\n",
    "        angka2 = int(input(\"Masukkan angka kedua: \"))\n",
    "        break\n",
    "    except ValueError:\n",
    "        print(\"Input salah\")\n",
    "\n",
    "if operator == '+':\n",
    "    print(angka1, '+', angka2, '=', tambah(angka1, angka2))\n",
    "elif operator == '-':\n",
    "    print(angka1, '-', angka2, '=', kurang(angka1, angka2))\n",
    "elif operator == 'x':\n",
    "    print(angka1, 'x', angka2, '=', kali(angka1, angka2))\n",
    "elif operator == ':':\n",
    "    print(angka1, ':', angka2, '=', bagi(angka1, angka2))\n",
    "elif operator == '^':\n",
    "    print(angka1, '^', angka2, '=', pangkat(angka1, angka2))\n",
    "else:\n",
    "    print(\"Operator\", operator, \"tidak ditemukan\")\n",
    "\n"
   ]
  },
  {
   "cell_type": "code",
   "execution_count": 6,
   "id": "2312845c-4a30-4691-93f5-9fc7b738342c",
   "metadata": {},
   "outputs": [
    {
     "data": {
      "text/plain": [
       "False"
      ]
     },
     "execution_count": 6,
     "metadata": {},
     "output_type": "execute_result"
    }
   ],
   "source": [
    "c = '12'\n",
    "x = 'lalala'\n",
    "# c.isnumeric()\n",
    "x.isnumeric()"
   ]
  },
  {
   "cell_type": "code",
   "execution_count": 7,
   "id": "9c05ce9b-66ca-4d1d-b46e-9792f78cb535",
   "metadata": {},
   "outputs": [
    {
     "name": "stdout",
     "output_type": "stream",
     "text": [
      "Requirement already satisfied: numpy in g:\\anaconda3\\lib\\site-packages (1.21.5)\n"
     ]
    }
   ],
   "source": [
    "pip install numpy"
   ]
  },
  {
   "cell_type": "code",
   "execution_count": 47,
   "id": "b2889fd7-a498-43fe-ad6e-7987fd5ee0d4",
   "metadata": {},
   "outputs": [
    {
     "data": {
      "text/plain": [
       "array([2, 3, 4])"
      ]
     },
     "execution_count": 47,
     "metadata": {},
     "output_type": "execute_result"
    }
   ],
   "source": [
    "\n",
    "## One dimentional array\n",
    "import numpy as np\n",
    "c = np.array([1,2,3,4])\n",
    "c[1]\n",
    "c[1:4]\n",
    "# print(c.shape)\n"
   ]
  },
  {
   "cell_type": "code",
   "execution_count": 22,
   "id": "fec13890-63d3-4603-aaea-341fd429be15",
   "metadata": {},
   "outputs": [
    {
     "name": "stdout",
     "output_type": "stream",
     "text": [
      "Shape:  (3, 3)\n"
     ]
    },
    {
     "data": {
      "text/plain": [
       "array([[1, 2, 3],\n",
       "       [2, 2, 4],\n",
       "       [3, 4, 5]])"
      ]
     },
     "execution_count": 22,
     "metadata": {},
     "output_type": "execute_result"
    }
   ],
   "source": [
    "## Two dimentional array\n",
    "list_of_list = [[1,2,3], [2,2,4], [3,4,5]]\n",
    "array_1 = np.array(list_of_list)\n",
    "print('Shape: ', array_1.shape)\n",
    "\n",
    "np.array(list_of_list)\n",
    "## axis 0 : 123, 224, 345(bawah)\n",
    "## axis 1 : (samping)\n",
    "\n",
    "## Shape itu axis0, axis 1"
   ]
  },
  {
   "cell_type": "code",
   "execution_count": 24,
   "id": "e10b6dad-c39d-4659-87ef-0660c0b763a4",
   "metadata": {},
   "outputs": [
    {
     "data": {
      "text/plain": [
       "array([[0., 0., 0.],\n",
       "       [0., 0., 0.],\n",
       "       [0., 0., 0.],\n",
       "       [0., 0., 0.],\n",
       "       [0., 0., 0.],\n",
       "       [0., 0., 0.],\n",
       "       [0., 0., 0.],\n",
       "       [0., 0., 0.],\n",
       "       [0., 0., 0.],\n",
       "       [0., 0., 0.],\n",
       "       [0., 0., 0.],\n",
       "       [0., 0., 0.]])"
      ]
     },
     "execution_count": 24,
     "metadata": {},
     "output_type": "execute_result"
    }
   ],
   "source": [
    "## Creating Array\n",
    "\n",
    "## np.zeros\n",
    "np.zeros(89)\n",
    "np.zeros([12,3])"
   ]
  },
  {
   "cell_type": "code",
   "execution_count": 27,
   "id": "74626569-0651-4383-b6d9-829673b6d5c8",
   "metadata": {},
   "outputs": [
    {
     "data": {
      "text/plain": [
       "array([[1., 1., 1., 1., 1.],\n",
       "       [1., 1., 1., 1., 1.]])"
      ]
     },
     "execution_count": 27,
     "metadata": {},
     "output_type": "execute_result"
    }
   ],
   "source": [
    "np.ones([2,5])"
   ]
  },
  {
   "cell_type": "code",
   "execution_count": 28,
   "id": "2a447109-27e0-4493-911d-6a3e5119e8fa",
   "metadata": {},
   "outputs": [
    {
     "data": {
      "text/plain": [
       "array([[0., 0.],\n",
       "       [0., 0.],\n",
       "       [0., 0.]])"
      ]
     },
     "execution_count": 28,
     "metadata": {},
     "output_type": "execute_result"
    }
   ],
   "source": [
    "np.empty([3,2])"
   ]
  },
  {
   "cell_type": "code",
   "execution_count": 29,
   "id": "4a2323ce-c462-4967-90a5-5b80425bd43b",
   "metadata": {},
   "outputs": [
    {
     "data": {
      "text/plain": [
       "array([0., 0., 0., 0., 0., 0.])"
      ]
     },
     "execution_count": 29,
     "metadata": {},
     "output_type": "execute_result"
    }
   ],
   "source": [
    "np.empty(6)"
   ]
  },
  {
   "cell_type": "code",
   "execution_count": 33,
   "id": "86ccd346-9970-4f5f-aa19-0d6e5002c44b",
   "metadata": {},
   "outputs": [
    {
     "data": {
      "text/plain": [
       "array([ 0,  3,  6,  9, 12])"
      ]
     },
     "execution_count": 33,
     "metadata": {},
     "output_type": "execute_result"
    }
   ],
   "source": [
    "np.arange(0,13,3)"
   ]
  },
  {
   "cell_type": "code",
   "execution_count": 43,
   "id": "91503833-b3f0-47e9-ba4c-e3fe58641533",
   "metadata": {},
   "outputs": [
    {
     "name": "stdout",
     "output_type": "stream",
     "text": [
      "[0 1 2 3 4 5 6 7 8 9]\n",
      "[0 1 2 3 4 5 6 7 8 9 1 2 3]\n",
      "[[0 1 2 3]\n",
      " [4 5 6 7]\n",
      " [8 1 2 3]]\n"
     ]
    }
   ],
   "source": [
    "mauapend = np.arange(0,10)\n",
    "print(mauapend)\n",
    "\n",
    "apend1 = np.append(mauapend, [1,2,3])\n",
    "print(apend1)\n",
    "\n",
    "apend2 = np.delete(apend1, 9)\n",
    "print(apend2.reshape(3,4))\n"
   ]
  },
  {
   "cell_type": "code",
   "execution_count": 52,
   "id": "5034391c-eda7-4591-960e-ec6a4616607d",
   "metadata": {},
   "outputs": [
    {
     "name": "stdout",
     "output_type": "stream",
     "text": [
      "[3 4 5 6 7 8 9]\n",
      "[[3 4 5 6 7 8 9]]\n"
     ]
    }
   ],
   "source": [
    "# np expand dims\n",
    "array7 = np.arange(3,10)\n",
    "print(array7)\n",
    "array8 = np.expand_dims(array7, axis=0)\n",
    "print(array8)"
   ]
  },
  {
   "cell_type": "code",
   "execution_count": 58,
   "id": "2bf56d0d-62e0-45d3-b4de-98d5ac876e24",
   "metadata": {},
   "outputs": [
    {
     "name": "stdout",
     "output_type": "stream",
     "text": [
      "[ 3 10]\n"
     ]
    }
   ],
   "source": [
    "## array bisa dilakukan operasi matematika\n",
    "# array7 = np.array([3,10])\n",
    "array7*2\n",
    "print(array7)"
   ]
  },
  {
   "cell_type": "code",
   "execution_count": 60,
   "id": "af50390b-15f6-430e-a4d4-5fe747820d2a",
   "metadata": {},
   "outputs": [
    {
     "name": "stdout",
     "output_type": "stream",
     "text": [
      "[6 7 8 9]\n",
      "[3 4]\n"
     ]
    }
   ],
   "source": [
    "# Filtering Array\n",
    "array7 = np.arange(3,10)\n",
    "print(array7[array7>5])\n",
    "print(array7[array7<5])"
   ]
  },
  {
   "cell_type": "code",
   "execution_count": null,
   "id": "fe0b97a5-de41-458d-ab31-c2bf31a224df",
   "metadata": {},
   "outputs": [],
   "source": [
    "## QUIZ 2"
   ]
  },
  {
   "cell_type": "code",
   "execution_count": 69,
   "id": "8bb38e91-71af-4fd0-92d5-163410ea4eda",
   "metadata": {},
   "outputs": [
    {
     "name": "stdin",
     "output_type": "stream",
     "text": [
      "Masukkan angka :  5\n"
     ]
    },
    {
     "name": "stdout",
     "output_type": "stream",
     "text": [
      "* * * * \n",
      " * * * * \n",
      "  * * * * \n",
      "   * * * * \n",
      "    * * * * \n"
     ]
    }
   ],
   "source": [
    "def jam_pasir(n):\n",
    "    for i in range(n):\n",
    "        for j in range(i):\n",
    "            print(' ', end='')\n",
    "        for j in range(n-1):\n",
    "            print('* ', end='')\n",
    "        print()\n",
    "n = int(input(\"Masukkan angka : \"))       \n",
    "jam_pasir(n)"
   ]
  },
  {
   "cell_type": "code",
   "execution_count": 71,
   "id": "6ad1ab75-f4c4-4875-9ad2-33cdbad606fd",
   "metadata": {},
   "outputs": [
    {
     "name": "stdout",
     "output_type": "stream",
     "text": [
      "Stack Vertical\n",
      "[[ 3  4  5  6  7]\n",
      " [ 7  8  9 10 11]]\n",
      "Stack Horizontal\n",
      "[ 3  4  5  6  7  7  8  9 10 11]\n"
     ]
    }
   ],
   "source": [
    "# STACK\n",
    "# VSTACK, HSTACK\n",
    "array14 = np.arange(3,8)\n",
    "array15 = np.arange(7,12)\n",
    "print(\"Stack Vertical\")\n",
    "print(np.vstack([array14,array15]))\n",
    "print('Stack Horizontal')\n",
    "print(np.hstack([array14,array15]))"
   ]
  },
  {
   "cell_type": "code",
   "execution_count": 74,
   "id": "d641b8e0-b950-4e81-a6e2-999089aa7a3e",
   "metadata": {},
   "outputs": [
    {
     "name": "stdout",
     "output_type": "stream",
     "text": [
      "Split Vertical\n",
      "Split Horizontal\n"
     ]
    },
    {
     "ename": "TypeError",
     "evalue": "_hvdsplit_dispatcher() missing 1 required positional argument: 'indices_or_sections'",
     "output_type": "error",
     "traceback": [
      "\u001b[1;31m---------------------------------------------------------------------------\u001b[0m",
      "\u001b[1;31mTypeError\u001b[0m                                 Traceback (most recent call last)",
      "\u001b[1;32m~\\AppData\\Local\\Temp\\ipykernel_17160\\3204477161.py\u001b[0m in \u001b[0;36m<module>\u001b[1;34m\u001b[0m\n\u001b[0;32m      6\u001b[0m \u001b[1;31m# print(np.vsplit([array14,2]))\u001b[0m\u001b[1;33m\u001b[0m\u001b[1;33m\u001b[0m\u001b[0m\n\u001b[0;32m      7\u001b[0m \u001b[0mprint\u001b[0m\u001b[1;33m(\u001b[0m\u001b[1;34m'Split Horizontal'\u001b[0m\u001b[1;33m)\u001b[0m\u001b[1;33m\u001b[0m\u001b[1;33m\u001b[0m\u001b[0m\n\u001b[1;32m----> 8\u001b[1;33m \u001b[0mprint\u001b[0m\u001b[1;33m(\u001b[0m\u001b[0mnp\u001b[0m\u001b[1;33m.\u001b[0m\u001b[0mhsplit\u001b[0m\u001b[1;33m(\u001b[0m\u001b[1;33m[\u001b[0m\u001b[0marray14\u001b[0m\u001b[1;33m,\u001b[0m\u001b[1;36m2\u001b[0m\u001b[1;33m]\u001b[0m\u001b[1;33m)\u001b[0m\u001b[1;33m)\u001b[0m\u001b[1;33m\u001b[0m\u001b[1;33m\u001b[0m\u001b[0m\n\u001b[0m",
      "\u001b[1;32m<__array_function__ internals>\u001b[0m in \u001b[0;36mhsplit\u001b[1;34m(*args, **kwargs)\u001b[0m\n",
      "\u001b[1;31mTypeError\u001b[0m: _hvdsplit_dispatcher() missing 1 required positional argument: 'indices_or_sections'"
     ]
    }
   ],
   "source": [
    "#SPLIT\n",
    "#VSPLIT dan HSPLIT\n",
    "array14 = np.arange(3,8)\n",
    "array15 = np.arange(7,12)\n",
    "print(\"Split Vertical\")\n",
    "print(np.vsplit([array14,2]))\n",
    "print('Split Horizontal')\n",
    "print(np.hsplit([array14,2]))"
   ]
  },
  {
   "cell_type": "code",
   "execution_count": 77,
   "id": "f8fe2591-dc2c-40e5-b2b6-c929f6363fc7",
   "metadata": {},
   "outputs": [
    {
     "name": "stdout",
     "output_type": "stream",
     "text": [
      "[[1 2 3]\n",
      " [3 4 5]]\n",
      "(2, 3)\n"
     ]
    }
   ],
   "source": [
    "# TRANSPOSING \n",
    "arrayc = np.array([[1,2,3], [3,4,5]])\n",
    "print(arrayc)\n",
    "print(arrayc.shape)"
   ]
  },
  {
   "cell_type": "code",
   "execution_count": 80,
   "id": "e59f7da9-0694-4f0a-b85a-d2419a2cf037",
   "metadata": {},
   "outputs": [
    {
     "name": "stdout",
     "output_type": "stream",
     "text": [
      "[[1 3]\n",
      " [2 4]\n",
      " [3 5]]\n",
      "(3, 2)\n"
     ]
    }
   ],
   "source": [
    "print(arrayc.T)\n",
    "print(arrayc.T.shape)"
   ]
  },
  {
   "cell_type": "code",
   "execution_count": 92,
   "id": "9c0d4d53-bb60-458b-aacb-84b19d8de919",
   "metadata": {},
   "outputs": [
    {
     "name": "stdin",
     "output_type": "stream",
     "text": [
      "Masukkan nilai awal :  0\n",
      "Masukkan nilai akhir :  22\n"
     ]
    },
    {
     "name": "stdout",
     "output_type": "stream",
     "text": [
      "[2, 3, 5, 7, 11, 13, 17, 19]\n"
     ]
    }
   ],
   "source": [
    "def bil_prima(awal, akhir):\n",
    "    prima = []\n",
    "    for i in range(awal, akhir + 1):\n",
    "        if i > 1:\n",
    "            for j in range(2, i):\n",
    "                if (i % j) == 0:\n",
    "                    break\n",
    "            else:\n",
    "                prima.append(i)\n",
    "    return prima\n",
    "awal = int(input(\"Masukkan nilai awal : \"))\n",
    "akhir = int(input(\"Masukkan nilai akhir : \"))\n",
    "print(bil_prima(awal,akhir))"
   ]
  },
  {
   "cell_type": "code",
   "execution_count": null,
   "id": "d09daef2-6f2c-446f-95e4-7674db2d14e1",
   "metadata": {},
   "outputs": [],
   "source": []
  },
  {
   "cell_type": "code",
   "execution_count": 94,
   "id": "dd08f0fd-02a1-4bae-8a9c-b73038df24c0",
   "metadata": {},
   "outputs": [
    {
     "name": "stdin",
     "output_type": "stream",
     "text": [
      "Masukkan angka :  10\n",
      "Masukkan angka :  30\n"
     ]
    },
    {
     "name": "stdout",
     "output_type": "stream",
     "text": [
      "11\n",
      "13\n",
      "17\n",
      "19\n",
      "23\n",
      "29\n"
     ]
    }
   ],
   "source": [
    "awal = int(input(\"Masukkan angka : \"))\n",
    "akhir = int(input(\"Masukkan angka : \"))\n",
    "\n",
    "for i in range(awal, akhir + 1):\n",
    "    if i > 1 : \n",
    "        for j in range(2,i):\n",
    "            if(i%j)==0:\n",
    "                break\n",
    "        else:\n",
    "            print(i)\n",
    "        "
   ]
  },
  {
   "cell_type": "code",
   "execution_count": 95,
   "id": "09eb38fd-e203-4e0f-b1a9-b48396ad43c3",
   "metadata": {},
   "outputs": [
    {
     "name": "stdin",
     "output_type": "stream",
     "text": [
      "Mau mulai dari berapa bintang nih ?  8\n"
     ]
    },
    {
     "name": "stdout",
     "output_type": "stream",
     "text": [
      "*******\n",
      " *****\n",
      "  ***\n",
      "   *\n",
      "  ***\n",
      " *****\n",
      "*******\n"
     ]
    }
   ],
   "source": [
    "n=int(input('Mau mulai dari berapa bintang nih ? '))\n",
    "t=0\n",
    "\n",
    "if n%2==0:\n",
    "   t=n-1\n",
    "else:\n",
    "   t=n\n",
    "\n",
    "for i in range(0,t):\n",
    "   if (t-2*i)>0: \n",
    "      print(' '*i+'*'*(t-2*i))\n",
    "   else:\n",
    "      k=t-i-1\n",
    "      print(' '*k+'*'*(t-2*k))"
   ]
  },
  {
   "cell_type": "markdown",
   "id": "83636778-3846-4357-bc31-469ec95d5f1a",
   "metadata": {},
   "source": [
    "## Numpy dari video kode.id"
   ]
  },
  {
   "cell_type": "code",
   "execution_count": 1,
   "id": "b1010ae7-910f-493f-b75a-542d6eb6ba09",
   "metadata": {},
   "outputs": [
    {
     "data": {
      "text/plain": [
       "'1.21.5'"
      ]
     },
     "execution_count": 1,
     "metadata": {},
     "output_type": "execute_result"
    }
   ],
   "source": [
    "import numpy as np\n",
    "np.__version__"
   ]
  },
  {
   "cell_type": "markdown",
   "id": "185950ef-dfe8-4843-b278-42ba98edf023",
   "metadata": {},
   "source": [
    "## Python LIST"
   ]
  },
  {
   "cell_type": "code",
   "execution_count": 7,
   "id": "c1c13720-4bbd-424c-8326-3bd48f2c8810",
   "metadata": {},
   "outputs": [],
   "source": [
    "gpas_as_list = [4.0, 3.2, 3.5]\n"
   ]
  },
  {
   "cell_type": "code",
   "execution_count": 8,
   "id": "88b801dc-caae-4a43-ac87-fd998014b818",
   "metadata": {},
   "outputs": [
    {
     "data": {
      "text/plain": [
       "[4.0, 3.2, 3.5, 4.0]"
      ]
     },
     "execution_count": 8,
     "metadata": {},
     "output_type": "execute_result"
    }
   ],
   "source": [
    "gpas_as_list.append(4.0)\n",
    "gpas_as_list"
   ]
  },
  {
   "cell_type": "code",
   "execution_count": 9,
   "id": "df0b8f17-9584-4f9f-a701-d1ea7fb9211f",
   "metadata": {},
   "outputs": [
    {
     "data": {
      "text/plain": [
       "[4.0, 3.2, 'Belum ada', 3.5, 4.0]"
      ]
     },
     "execution_count": 9,
     "metadata": {},
     "output_type": "execute_result"
    }
   ],
   "source": [
    "gpas_as_list.insert(2, 'Belum ada')\n",
    "gpas_as_list"
   ]
  },
  {
   "cell_type": "code",
   "execution_count": 10,
   "id": "95e88e29-8423-4ef5-bed8-479b41b8b096",
   "metadata": {},
   "outputs": [
    {
     "data": {
      "text/plain": [
       "[4.0, 3.2, 'Belum ada', 3.5]"
      ]
     },
     "execution_count": 10,
     "metadata": {},
     "output_type": "execute_result"
    }
   ],
   "source": [
    "gpas_as_list.pop()\n",
    "gpas_as_list"
   ]
  },
  {
   "cell_type": "code",
   "execution_count": 11,
   "id": "aba624f2-d01a-4bbb-b1aa-43e4d21fd081",
   "metadata": {},
   "outputs": [
    {
     "data": {
      "text/plain": [
       "[4.0, 3.2, 3.5]"
      ]
     },
     "execution_count": 11,
     "metadata": {},
     "output_type": "execute_result"
    }
   ],
   "source": [
    "gpas_as_list.pop(2)\n",
    "gpas_as_list"
   ]
  },
  {
   "cell_type": "markdown",
   "id": "36e3fa06-da94-4feb-9bd5-44002b2d2356",
   "metadata": {},
   "source": [
    "## Array NUMPY"
   ]
  },
  {
   "cell_type": "code",
   "execution_count": 13,
   "id": "2ef63fde-83b7-4ca9-bdba-5d97a9cd4597",
   "metadata": {},
   "outputs": [],
   "source": [
    "gpas = np.array(gpas_as_list)"
   ]
  },
  {
   "cell_type": "code",
   "execution_count": 16,
   "id": "ebe9877a-adbc-4702-96bf-1e883f049384",
   "metadata": {},
   "outputs": [
    {
     "data": {
      "text/plain": [
       "dtype('float64')"
      ]
     },
     "execution_count": 16,
     "metadata": {},
     "output_type": "execute_result"
    }
   ],
   "source": [
    "gpas.dtype"
   ]
  },
  {
   "cell_type": "code",
   "execution_count": 17,
   "id": "a9610253-0952-48b4-9d68-14e14af90524",
   "metadata": {},
   "outputs": [
    {
     "data": {
      "text/plain": [
       "3"
      ]
     },
     "execution_count": 17,
     "metadata": {},
     "output_type": "execute_result"
    }
   ],
   "source": [
    "gpas.size"
   ]
  },
  {
   "cell_type": "code",
   "execution_count": 29,
   "id": "07a50662-48c6-427e-9005-88fe9b1e717d",
   "metadata": {},
   "outputs": [
    {
     "data": {
      "text/plain": [
       "array([4.  , 3.2 , 3.5 , 2.79, 2.79])"
      ]
     },
     "execution_count": 29,
     "metadata": {},
     "output_type": "execute_result"
    }
   ],
   "source": [
    "gpas"
   ]
  },
  {
   "cell_type": "code",
   "execution_count": 32,
   "id": "481a3486-2b8f-4cb6-ac4a-9ac443af44a8",
   "metadata": {},
   "outputs": [
    {
     "data": {
      "text/plain": [
       "array([4.  , 3.2 , 3.5 , 2.79, 2.79])"
      ]
     },
     "execution_count": 32,
     "metadata": {},
     "output_type": "execute_result"
    }
   ],
   "source": [
    "gpas = np.array(gpas_as_list)\n",
    "gpas"
   ]
  },
  {
   "cell_type": "code",
   "execution_count": 33,
   "id": "557fca5c-e25a-4eb7-9313-abc142999337",
   "metadata": {},
   "outputs": [],
   "source": [
    "gpas = np.array(gpas_as_list.pop(4))"
   ]
  },
  {
   "cell_type": "code",
   "execution_count": 34,
   "id": "b9e95b0d-f8ec-4ee9-b784-549c0cc868f8",
   "metadata": {},
   "outputs": [
    {
     "data": {
      "text/plain": [
       "array(2.79)"
      ]
     },
     "execution_count": 34,
     "metadata": {},
     "output_type": "execute_result"
    }
   ],
   "source": [
    "gpas"
   ]
  },
  {
   "cell_type": "code",
   "execution_count": 36,
   "id": "9fad750c-66e9-4df6-b36f-2fc1f37e9181",
   "metadata": {},
   "outputs": [],
   "source": [
    "gpas = np.array(gpas_as_list)"
   ]
  },
  {
   "cell_type": "code",
   "execution_count": 37,
   "id": "7dec0b12-1d5a-4dd2-846b-f0b107fa0cdb",
   "metadata": {},
   "outputs": [
    {
     "data": {
      "text/plain": [
       "array([4.  , 3.2 , 3.5 , 2.79])"
      ]
     },
     "execution_count": 37,
     "metadata": {},
     "output_type": "execute_result"
    }
   ],
   "source": [
    "gpas"
   ]
  },
  {
   "cell_type": "markdown",
   "id": "f3470720-bfe1-4172-ba7e-1add184b9d64",
   "metadata": {},
   "source": [
    "## Array Multi Diomensi"
   ]
  },
  {
   "cell_type": "code",
   "execution_count": 39,
   "id": "760f59ab-a552-4c6b-89de-d02cda17f3e8",
   "metadata": {},
   "outputs": [
    {
     "data": {
      "text/plain": [
       "array([[4.  , 3.45, 4.  , 2.6 ],\n",
       "       [4.  , 3.32, 1.4 , 3.6 ],\n",
       "       [4.  , 3.5 , 3.9 , 2.6 ],\n",
       "       [4.  , 3.55, 4.  , 3.83]], dtype=float16)"
      ]
     },
     "execution_count": 39,
     "metadata": {},
     "output_type": "execute_result"
    }
   ],
   "source": [
    "student_gpas = np.array([\n",
    "    [4.0, 3.45, 4, 2.6],\n",
    "    [4.0, 3.32, 1.4, 3.6],\n",
    "    [4, 3.5, 3.9, 2.6],\n",
    "    [4.0, 3.55, 4, 3.83]\n",
    "], np.float16) \n",
    "\n",
    "student_gpas"
   ]
  },
  {
   "cell_type": "code",
   "execution_count": 40,
   "id": "209cfd4a-a52e-4bf7-bccb-24a4de6ba1b8",
   "metadata": {},
   "outputs": [
    {
     "data": {
      "text/plain": [
       "2"
      ]
     },
     "execution_count": 40,
     "metadata": {},
     "output_type": "execute_result"
    }
   ],
   "source": [
    "student_gpas.ndim"
   ]
  },
  {
   "cell_type": "code",
   "execution_count": 42,
   "id": "7b4783bd-cb65-479a-987b-627ea5780a3a",
   "metadata": {},
   "outputs": [
    {
     "data": {
      "text/plain": [
       "(4, 4)"
      ]
     },
     "execution_count": 42,
     "metadata": {},
     "output_type": "execute_result"
    }
   ],
   "source": [
    "student_gpas.shape"
   ]
  },
  {
   "cell_type": "code",
   "execution_count": 43,
   "id": "9deee1f0-6a19-4092-8511-2029ddd8f24d",
   "metadata": {},
   "outputs": [
    {
     "data": {
      "text/plain": [
       "array([4.  , 3.55, 4.  , 3.83], dtype=float16)"
      ]
     },
     "execution_count": 43,
     "metadata": {},
     "output_type": "execute_result"
    }
   ],
   "source": [
    "student_gpas[3]"
   ]
  },
  {
   "cell_type": "code",
   "execution_count": 44,
   "id": "b5f339b1-ce34-4924-ac9e-55f6d143dfd1",
   "metadata": {},
   "outputs": [
    {
     "data": {
      "text/plain": [
       "2.6"
      ]
     },
     "execution_count": 44,
     "metadata": {},
     "output_type": "execute_result"
    }
   ],
   "source": [
    "student_gpas[2][3] ## Mengamil nilai IPK Student ke 3 dan IPK ke 4"
   ]
  },
  {
   "cell_type": "code",
   "execution_count": null,
   "id": "3aca8fc3-1cc3-49d1-acfd-edaeab1fce91",
   "metadata": {},
   "outputs": [],
   "source": []
  }
 ],
 "metadata": {
  "kernelspec": {
   "display_name": "Python 3 (ipykernel)",
   "language": "python",
   "name": "python3"
  },
  "language_info": {
   "codemirror_mode": {
    "name": "ipython",
    "version": 3
   },
   "file_extension": ".py",
   "mimetype": "text/x-python",
   "name": "python",
   "nbconvert_exporter": "python",
   "pygments_lexer": "ipython3",
   "version": "3.9.13"
  }
 },
 "nbformat": 4,
 "nbformat_minor": 5
}
