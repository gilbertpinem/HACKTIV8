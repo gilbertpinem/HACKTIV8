{
 "cells": [
  {
   "cell_type": "code",
   "execution_count": 1,
   "id": "598e4555-22fc-4adf-a7a3-0c860ad8e1f6",
   "metadata": {},
   "outputs": [],
   "source": [
    "import numpy as np\n",
    "import pandas as pd"
   ]
  },
  {
   "cell_type": "code",
   "execution_count": 3,
   "id": "a11d1c87-3716-4384-aed7-1c4a8445c4cd",
   "metadata": {},
   "outputs": [],
   "source": [
    "## READ DATA 'bank.csv'\n",
    "df = pd.read_csv('bank.csv')"
   ]
  },
  {
   "cell_type": "code",
   "execution_count": 4,
   "id": "180752ae-5a62-45c0-88ab-aa6b1e1289ce",
   "metadata": {},
   "outputs": [
    {
     "data": {
      "text/html": [
       "<div>\n",
       "<style scoped>\n",
       "    .dataframe tbody tr th:only-of-type {\n",
       "        vertical-align: middle;\n",
       "    }\n",
       "\n",
       "    .dataframe tbody tr th {\n",
       "        vertical-align: top;\n",
       "    }\n",
       "\n",
       "    .dataframe thead th {\n",
       "        text-align: right;\n",
       "    }\n",
       "</style>\n",
       "<table border=\"1\" class=\"dataframe\">\n",
       "  <thead>\n",
       "    <tr style=\"text-align: right;\">\n",
       "      <th></th>\n",
       "      <th>age;\"job\";\"marital\";\"education\";\"default\";\"balance\";\"housing\";\"loan\";\"contact\";\"day\";\"month\";\"duration\";\"campaign\";\"pdays\";\"previous\";\"poutcome\";\"y\"</th>\n",
       "    </tr>\n",
       "  </thead>\n",
       "  <tbody>\n",
       "    <tr>\n",
       "      <th>0</th>\n",
       "      <td>30;\"unemployed\";\"married\";\"primary\";\"no\";1787;...</td>\n",
       "    </tr>\n",
       "    <tr>\n",
       "      <th>1</th>\n",
       "      <td>33;\"services\";\"married\";\"secondary\";\"no\";4789;...</td>\n",
       "    </tr>\n",
       "    <tr>\n",
       "      <th>2</th>\n",
       "      <td>35;\"management\";\"single\";\"tertiary\";\"no\";1350;...</td>\n",
       "    </tr>\n",
       "    <tr>\n",
       "      <th>3</th>\n",
       "      <td>30;\"management\";\"married\";\"tertiary\";\"no\";1476...</td>\n",
       "    </tr>\n",
       "    <tr>\n",
       "      <th>4</th>\n",
       "      <td>59;\"blue-collar\";\"married\";\"secondary\";\"no\";0;...</td>\n",
       "    </tr>\n",
       "    <tr>\n",
       "      <th>...</th>\n",
       "      <td>...</td>\n",
       "    </tr>\n",
       "    <tr>\n",
       "      <th>4516</th>\n",
       "      <td>33;\"services\";\"married\";\"secondary\";\"no\";-333;...</td>\n",
       "    </tr>\n",
       "    <tr>\n",
       "      <th>4517</th>\n",
       "      <td>57;\"self-employed\";\"married\";\"tertiary\";\"yes\";...</td>\n",
       "    </tr>\n",
       "    <tr>\n",
       "      <th>4518</th>\n",
       "      <td>57;\"technician\";\"married\";\"secondary\";\"no\";295...</td>\n",
       "    </tr>\n",
       "    <tr>\n",
       "      <th>4519</th>\n",
       "      <td>28;\"blue-collar\";\"married\";\"secondary\";\"no\";11...</td>\n",
       "    </tr>\n",
       "    <tr>\n",
       "      <th>4520</th>\n",
       "      <td>44;\"entrepreneur\";\"single\";\"tertiary\";\"no\";113...</td>\n",
       "    </tr>\n",
       "  </tbody>\n",
       "</table>\n",
       "<p>4521 rows × 1 columns</p>\n",
       "</div>"
      ],
      "text/plain": [
       "     age;\"job\";\"marital\";\"education\";\"default\";\"balance\";\"housing\";\"loan\";\"contact\";\"day\";\"month\";\"duration\";\"campaign\";\"pdays\";\"previous\";\"poutcome\";\"y\"\n",
       "0     30;\"unemployed\";\"married\";\"primary\";\"no\";1787;...                                                                                                  \n",
       "1     33;\"services\";\"married\";\"secondary\";\"no\";4789;...                                                                                                  \n",
       "2     35;\"management\";\"single\";\"tertiary\";\"no\";1350;...                                                                                                  \n",
       "3     30;\"management\";\"married\";\"tertiary\";\"no\";1476...                                                                                                  \n",
       "4     59;\"blue-collar\";\"married\";\"secondary\";\"no\";0;...                                                                                                  \n",
       "...                                                 ...                                                                                                  \n",
       "4516  33;\"services\";\"married\";\"secondary\";\"no\";-333;...                                                                                                  \n",
       "4517  57;\"self-employed\";\"married\";\"tertiary\";\"yes\";...                                                                                                  \n",
       "4518  57;\"technician\";\"married\";\"secondary\";\"no\";295...                                                                                                  \n",
       "4519  28;\"blue-collar\";\"married\";\"secondary\";\"no\";11...                                                                                                  \n",
       "4520  44;\"entrepreneur\";\"single\";\"tertiary\";\"no\";113...                                                                                                  \n",
       "\n",
       "[4521 rows x 1 columns]"
      ]
     },
     "execution_count": 4,
     "metadata": {},
     "output_type": "execute_result"
    }
   ],
   "source": [
    "df"
   ]
  },
  {
   "cell_type": "code",
   "execution_count": 5,
   "id": "74743925-4db0-4cff-a87d-e5f6c69bd553",
   "metadata": {},
   "outputs": [],
   "source": [
    "## Mengubah nama kolom 1 menjadi 'a'\n",
    "df = df.rename(columns={'age;\"job\";\"marital\";\"education\";\"default\";\"balance\";\"housing\";\"loan\";\"contact\";\"day\";\"month\";\"duration\";\"campaign\";\"pdays\";\"previous\";\"poutcome\";\"y\"' : 'a'})"
   ]
  },
  {
   "cell_type": "code",
   "execution_count": 6,
   "id": "a0cda089-6a20-4012-98c3-488e0505468d",
   "metadata": {},
   "outputs": [
    {
     "data": {
      "text/html": [
       "<div>\n",
       "<style scoped>\n",
       "    .dataframe tbody tr th:only-of-type {\n",
       "        vertical-align: middle;\n",
       "    }\n",
       "\n",
       "    .dataframe tbody tr th {\n",
       "        vertical-align: top;\n",
       "    }\n",
       "\n",
       "    .dataframe thead th {\n",
       "        text-align: right;\n",
       "    }\n",
       "</style>\n",
       "<table border=\"1\" class=\"dataframe\">\n",
       "  <thead>\n",
       "    <tr style=\"text-align: right;\">\n",
       "      <th></th>\n",
       "      <th>a</th>\n",
       "    </tr>\n",
       "  </thead>\n",
       "  <tbody>\n",
       "    <tr>\n",
       "      <th>0</th>\n",
       "      <td>30;\"unemployed\";\"married\";\"primary\";\"no\";1787;...</td>\n",
       "    </tr>\n",
       "    <tr>\n",
       "      <th>1</th>\n",
       "      <td>33;\"services\";\"married\";\"secondary\";\"no\";4789;...</td>\n",
       "    </tr>\n",
       "    <tr>\n",
       "      <th>2</th>\n",
       "      <td>35;\"management\";\"single\";\"tertiary\";\"no\";1350;...</td>\n",
       "    </tr>\n",
       "    <tr>\n",
       "      <th>3</th>\n",
       "      <td>30;\"management\";\"married\";\"tertiary\";\"no\";1476...</td>\n",
       "    </tr>\n",
       "    <tr>\n",
       "      <th>4</th>\n",
       "      <td>59;\"blue-collar\";\"married\";\"secondary\";\"no\";0;...</td>\n",
       "    </tr>\n",
       "    <tr>\n",
       "      <th>...</th>\n",
       "      <td>...</td>\n",
       "    </tr>\n",
       "    <tr>\n",
       "      <th>4516</th>\n",
       "      <td>33;\"services\";\"married\";\"secondary\";\"no\";-333;...</td>\n",
       "    </tr>\n",
       "    <tr>\n",
       "      <th>4517</th>\n",
       "      <td>57;\"self-employed\";\"married\";\"tertiary\";\"yes\";...</td>\n",
       "    </tr>\n",
       "    <tr>\n",
       "      <th>4518</th>\n",
       "      <td>57;\"technician\";\"married\";\"secondary\";\"no\";295...</td>\n",
       "    </tr>\n",
       "    <tr>\n",
       "      <th>4519</th>\n",
       "      <td>28;\"blue-collar\";\"married\";\"secondary\";\"no\";11...</td>\n",
       "    </tr>\n",
       "    <tr>\n",
       "      <th>4520</th>\n",
       "      <td>44;\"entrepreneur\";\"single\";\"tertiary\";\"no\";113...</td>\n",
       "    </tr>\n",
       "  </tbody>\n",
       "</table>\n",
       "<p>4521 rows × 1 columns</p>\n",
       "</div>"
      ],
      "text/plain": [
       "                                                      a\n",
       "0     30;\"unemployed\";\"married\";\"primary\";\"no\";1787;...\n",
       "1     33;\"services\";\"married\";\"secondary\";\"no\";4789;...\n",
       "2     35;\"management\";\"single\";\"tertiary\";\"no\";1350;...\n",
       "3     30;\"management\";\"married\";\"tertiary\";\"no\";1476...\n",
       "4     59;\"blue-collar\";\"married\";\"secondary\";\"no\";0;...\n",
       "...                                                 ...\n",
       "4516  33;\"services\";\"married\";\"secondary\";\"no\";-333;...\n",
       "4517  57;\"self-employed\";\"married\";\"tertiary\";\"yes\";...\n",
       "4518  57;\"technician\";\"married\";\"secondary\";\"no\";295...\n",
       "4519  28;\"blue-collar\";\"married\";\"secondary\";\"no\";11...\n",
       "4520  44;\"entrepreneur\";\"single\";\"tertiary\";\"no\";113...\n",
       "\n",
       "[4521 rows x 1 columns]"
      ]
     },
     "execution_count": 6,
     "metadata": {},
     "output_type": "execute_result"
    }
   ],
   "source": [
    "df"
   ]
  },
  {
   "cell_type": "code",
   "execution_count": 7,
   "id": "38331398-910b-49dd-b90c-da782c5451aa",
   "metadata": {},
   "outputs": [],
   "source": [
    "## Memisah-misahkan setiap kolom\n",
    "df[[\"age\",\"job\",\"marital\",\"education\",\"default\",\"balance\",\"housing\",\"loan\",\"contact\",\"day\",\"month\",\"duration\",\"campaign\",\"pdays\",\"previous\",\"poutcome\",\"y\"]] = df['a'].str.split(';', expand =True)"
   ]
  },
  {
   "cell_type": "code",
   "execution_count": 8,
   "id": "7e38b143-880e-4ff4-b57a-6a9b8f233dcf",
   "metadata": {},
   "outputs": [
    {
     "data": {
      "text/html": [
       "<div>\n",
       "<style scoped>\n",
       "    .dataframe tbody tr th:only-of-type {\n",
       "        vertical-align: middle;\n",
       "    }\n",
       "\n",
       "    .dataframe tbody tr th {\n",
       "        vertical-align: top;\n",
       "    }\n",
       "\n",
       "    .dataframe thead th {\n",
       "        text-align: right;\n",
       "    }\n",
       "</style>\n",
       "<table border=\"1\" class=\"dataframe\">\n",
       "  <thead>\n",
       "    <tr style=\"text-align: right;\">\n",
       "      <th></th>\n",
       "      <th>a</th>\n",
       "      <th>age</th>\n",
       "      <th>job</th>\n",
       "      <th>marital</th>\n",
       "      <th>education</th>\n",
       "      <th>default</th>\n",
       "      <th>balance</th>\n",
       "      <th>housing</th>\n",
       "      <th>loan</th>\n",
       "      <th>contact</th>\n",
       "      <th>day</th>\n",
       "      <th>month</th>\n",
       "      <th>duration</th>\n",
       "      <th>campaign</th>\n",
       "      <th>pdays</th>\n",
       "      <th>previous</th>\n",
       "      <th>poutcome</th>\n",
       "      <th>y</th>\n",
       "    </tr>\n",
       "  </thead>\n",
       "  <tbody>\n",
       "    <tr>\n",
       "      <th>0</th>\n",
       "      <td>30;\"unemployed\";\"married\";\"primary\";\"no\";1787;...</td>\n",
       "      <td>30</td>\n",
       "      <td>\"unemployed\"</td>\n",
       "      <td>\"married\"</td>\n",
       "      <td>\"primary\"</td>\n",
       "      <td>\"no\"</td>\n",
       "      <td>1787</td>\n",
       "      <td>\"no\"</td>\n",
       "      <td>\"no\"</td>\n",
       "      <td>\"cellular\"</td>\n",
       "      <td>19</td>\n",
       "      <td>\"oct\"</td>\n",
       "      <td>79</td>\n",
       "      <td>1</td>\n",
       "      <td>-1</td>\n",
       "      <td>0</td>\n",
       "      <td>\"unknown\"</td>\n",
       "      <td>\"no\"</td>\n",
       "    </tr>\n",
       "    <tr>\n",
       "      <th>1</th>\n",
       "      <td>33;\"services\";\"married\";\"secondary\";\"no\";4789;...</td>\n",
       "      <td>33</td>\n",
       "      <td>\"services\"</td>\n",
       "      <td>\"married\"</td>\n",
       "      <td>\"secondary\"</td>\n",
       "      <td>\"no\"</td>\n",
       "      <td>4789</td>\n",
       "      <td>\"yes\"</td>\n",
       "      <td>\"yes\"</td>\n",
       "      <td>\"cellular\"</td>\n",
       "      <td>11</td>\n",
       "      <td>\"may\"</td>\n",
       "      <td>220</td>\n",
       "      <td>1</td>\n",
       "      <td>339</td>\n",
       "      <td>4</td>\n",
       "      <td>\"failure\"</td>\n",
       "      <td>\"no\"</td>\n",
       "    </tr>\n",
       "    <tr>\n",
       "      <th>2</th>\n",
       "      <td>35;\"management\";\"single\";\"tertiary\";\"no\";1350;...</td>\n",
       "      <td>35</td>\n",
       "      <td>\"management\"</td>\n",
       "      <td>\"single\"</td>\n",
       "      <td>\"tertiary\"</td>\n",
       "      <td>\"no\"</td>\n",
       "      <td>1350</td>\n",
       "      <td>\"yes\"</td>\n",
       "      <td>\"no\"</td>\n",
       "      <td>\"cellular\"</td>\n",
       "      <td>16</td>\n",
       "      <td>\"apr\"</td>\n",
       "      <td>185</td>\n",
       "      <td>1</td>\n",
       "      <td>330</td>\n",
       "      <td>1</td>\n",
       "      <td>\"failure\"</td>\n",
       "      <td>\"no\"</td>\n",
       "    </tr>\n",
       "    <tr>\n",
       "      <th>3</th>\n",
       "      <td>30;\"management\";\"married\";\"tertiary\";\"no\";1476...</td>\n",
       "      <td>30</td>\n",
       "      <td>\"management\"</td>\n",
       "      <td>\"married\"</td>\n",
       "      <td>\"tertiary\"</td>\n",
       "      <td>\"no\"</td>\n",
       "      <td>1476</td>\n",
       "      <td>\"yes\"</td>\n",
       "      <td>\"yes\"</td>\n",
       "      <td>\"unknown\"</td>\n",
       "      <td>3</td>\n",
       "      <td>\"jun\"</td>\n",
       "      <td>199</td>\n",
       "      <td>4</td>\n",
       "      <td>-1</td>\n",
       "      <td>0</td>\n",
       "      <td>\"unknown\"</td>\n",
       "      <td>\"no\"</td>\n",
       "    </tr>\n",
       "    <tr>\n",
       "      <th>4</th>\n",
       "      <td>59;\"blue-collar\";\"married\";\"secondary\";\"no\";0;...</td>\n",
       "      <td>59</td>\n",
       "      <td>\"blue-collar\"</td>\n",
       "      <td>\"married\"</td>\n",
       "      <td>\"secondary\"</td>\n",
       "      <td>\"no\"</td>\n",
       "      <td>0</td>\n",
       "      <td>\"yes\"</td>\n",
       "      <td>\"no\"</td>\n",
       "      <td>\"unknown\"</td>\n",
       "      <td>5</td>\n",
       "      <td>\"may\"</td>\n",
       "      <td>226</td>\n",
       "      <td>1</td>\n",
       "      <td>-1</td>\n",
       "      <td>0</td>\n",
       "      <td>\"unknown\"</td>\n",
       "      <td>\"no\"</td>\n",
       "    </tr>\n",
       "    <tr>\n",
       "      <th>...</th>\n",
       "      <td>...</td>\n",
       "      <td>...</td>\n",
       "      <td>...</td>\n",
       "      <td>...</td>\n",
       "      <td>...</td>\n",
       "      <td>...</td>\n",
       "      <td>...</td>\n",
       "      <td>...</td>\n",
       "      <td>...</td>\n",
       "      <td>...</td>\n",
       "      <td>...</td>\n",
       "      <td>...</td>\n",
       "      <td>...</td>\n",
       "      <td>...</td>\n",
       "      <td>...</td>\n",
       "      <td>...</td>\n",
       "      <td>...</td>\n",
       "      <td>...</td>\n",
       "    </tr>\n",
       "    <tr>\n",
       "      <th>4516</th>\n",
       "      <td>33;\"services\";\"married\";\"secondary\";\"no\";-333;...</td>\n",
       "      <td>33</td>\n",
       "      <td>\"services\"</td>\n",
       "      <td>\"married\"</td>\n",
       "      <td>\"secondary\"</td>\n",
       "      <td>\"no\"</td>\n",
       "      <td>-333</td>\n",
       "      <td>\"yes\"</td>\n",
       "      <td>\"no\"</td>\n",
       "      <td>\"cellular\"</td>\n",
       "      <td>30</td>\n",
       "      <td>\"jul\"</td>\n",
       "      <td>329</td>\n",
       "      <td>5</td>\n",
       "      <td>-1</td>\n",
       "      <td>0</td>\n",
       "      <td>\"unknown\"</td>\n",
       "      <td>\"no\"</td>\n",
       "    </tr>\n",
       "    <tr>\n",
       "      <th>4517</th>\n",
       "      <td>57;\"self-employed\";\"married\";\"tertiary\";\"yes\";...</td>\n",
       "      <td>57</td>\n",
       "      <td>\"self-employed\"</td>\n",
       "      <td>\"married\"</td>\n",
       "      <td>\"tertiary\"</td>\n",
       "      <td>\"yes\"</td>\n",
       "      <td>-3313</td>\n",
       "      <td>\"yes\"</td>\n",
       "      <td>\"yes\"</td>\n",
       "      <td>\"unknown\"</td>\n",
       "      <td>9</td>\n",
       "      <td>\"may\"</td>\n",
       "      <td>153</td>\n",
       "      <td>1</td>\n",
       "      <td>-1</td>\n",
       "      <td>0</td>\n",
       "      <td>\"unknown\"</td>\n",
       "      <td>\"no\"</td>\n",
       "    </tr>\n",
       "    <tr>\n",
       "      <th>4518</th>\n",
       "      <td>57;\"technician\";\"married\";\"secondary\";\"no\";295...</td>\n",
       "      <td>57</td>\n",
       "      <td>\"technician\"</td>\n",
       "      <td>\"married\"</td>\n",
       "      <td>\"secondary\"</td>\n",
       "      <td>\"no\"</td>\n",
       "      <td>295</td>\n",
       "      <td>\"no\"</td>\n",
       "      <td>\"no\"</td>\n",
       "      <td>\"cellular\"</td>\n",
       "      <td>19</td>\n",
       "      <td>\"aug\"</td>\n",
       "      <td>151</td>\n",
       "      <td>11</td>\n",
       "      <td>-1</td>\n",
       "      <td>0</td>\n",
       "      <td>\"unknown\"</td>\n",
       "      <td>\"no\"</td>\n",
       "    </tr>\n",
       "    <tr>\n",
       "      <th>4519</th>\n",
       "      <td>28;\"blue-collar\";\"married\";\"secondary\";\"no\";11...</td>\n",
       "      <td>28</td>\n",
       "      <td>\"blue-collar\"</td>\n",
       "      <td>\"married\"</td>\n",
       "      <td>\"secondary\"</td>\n",
       "      <td>\"no\"</td>\n",
       "      <td>1137</td>\n",
       "      <td>\"no\"</td>\n",
       "      <td>\"no\"</td>\n",
       "      <td>\"cellular\"</td>\n",
       "      <td>6</td>\n",
       "      <td>\"feb\"</td>\n",
       "      <td>129</td>\n",
       "      <td>4</td>\n",
       "      <td>211</td>\n",
       "      <td>3</td>\n",
       "      <td>\"other\"</td>\n",
       "      <td>\"no\"</td>\n",
       "    </tr>\n",
       "    <tr>\n",
       "      <th>4520</th>\n",
       "      <td>44;\"entrepreneur\";\"single\";\"tertiary\";\"no\";113...</td>\n",
       "      <td>44</td>\n",
       "      <td>\"entrepreneur\"</td>\n",
       "      <td>\"single\"</td>\n",
       "      <td>\"tertiary\"</td>\n",
       "      <td>\"no\"</td>\n",
       "      <td>1136</td>\n",
       "      <td>\"yes\"</td>\n",
       "      <td>\"yes\"</td>\n",
       "      <td>\"cellular\"</td>\n",
       "      <td>3</td>\n",
       "      <td>\"apr\"</td>\n",
       "      <td>345</td>\n",
       "      <td>2</td>\n",
       "      <td>249</td>\n",
       "      <td>7</td>\n",
       "      <td>\"other\"</td>\n",
       "      <td>\"no\"</td>\n",
       "    </tr>\n",
       "  </tbody>\n",
       "</table>\n",
       "<p>4521 rows × 18 columns</p>\n",
       "</div>"
      ],
      "text/plain": [
       "                                                      a age              job  \\\n",
       "0     30;\"unemployed\";\"married\";\"primary\";\"no\";1787;...  30     \"unemployed\"   \n",
       "1     33;\"services\";\"married\";\"secondary\";\"no\";4789;...  33       \"services\"   \n",
       "2     35;\"management\";\"single\";\"tertiary\";\"no\";1350;...  35     \"management\"   \n",
       "3     30;\"management\";\"married\";\"tertiary\";\"no\";1476...  30     \"management\"   \n",
       "4     59;\"blue-collar\";\"married\";\"secondary\";\"no\";0;...  59    \"blue-collar\"   \n",
       "...                                                 ...  ..              ...   \n",
       "4516  33;\"services\";\"married\";\"secondary\";\"no\";-333;...  33       \"services\"   \n",
       "4517  57;\"self-employed\";\"married\";\"tertiary\";\"yes\";...  57  \"self-employed\"   \n",
       "4518  57;\"technician\";\"married\";\"secondary\";\"no\";295...  57     \"technician\"   \n",
       "4519  28;\"blue-collar\";\"married\";\"secondary\";\"no\";11...  28    \"blue-collar\"   \n",
       "4520  44;\"entrepreneur\";\"single\";\"tertiary\";\"no\";113...  44   \"entrepreneur\"   \n",
       "\n",
       "        marital    education default balance housing   loan     contact day  \\\n",
       "0     \"married\"    \"primary\"    \"no\"    1787    \"no\"   \"no\"  \"cellular\"  19   \n",
       "1     \"married\"  \"secondary\"    \"no\"    4789   \"yes\"  \"yes\"  \"cellular\"  11   \n",
       "2      \"single\"   \"tertiary\"    \"no\"    1350   \"yes\"   \"no\"  \"cellular\"  16   \n",
       "3     \"married\"   \"tertiary\"    \"no\"    1476   \"yes\"  \"yes\"   \"unknown\"   3   \n",
       "4     \"married\"  \"secondary\"    \"no\"       0   \"yes\"   \"no\"   \"unknown\"   5   \n",
       "...         ...          ...     ...     ...     ...    ...         ...  ..   \n",
       "4516  \"married\"  \"secondary\"    \"no\"    -333   \"yes\"   \"no\"  \"cellular\"  30   \n",
       "4517  \"married\"   \"tertiary\"   \"yes\"   -3313   \"yes\"  \"yes\"   \"unknown\"   9   \n",
       "4518  \"married\"  \"secondary\"    \"no\"     295    \"no\"   \"no\"  \"cellular\"  19   \n",
       "4519  \"married\"  \"secondary\"    \"no\"    1137    \"no\"   \"no\"  \"cellular\"   6   \n",
       "4520   \"single\"   \"tertiary\"    \"no\"    1136   \"yes\"  \"yes\"  \"cellular\"   3   \n",
       "\n",
       "      month duration campaign pdays previous   poutcome     y  \n",
       "0     \"oct\"       79        1    -1        0  \"unknown\"  \"no\"  \n",
       "1     \"may\"      220        1   339        4  \"failure\"  \"no\"  \n",
       "2     \"apr\"      185        1   330        1  \"failure\"  \"no\"  \n",
       "3     \"jun\"      199        4    -1        0  \"unknown\"  \"no\"  \n",
       "4     \"may\"      226        1    -1        0  \"unknown\"  \"no\"  \n",
       "...     ...      ...      ...   ...      ...        ...   ...  \n",
       "4516  \"jul\"      329        5    -1        0  \"unknown\"  \"no\"  \n",
       "4517  \"may\"      153        1    -1        0  \"unknown\"  \"no\"  \n",
       "4518  \"aug\"      151       11    -1        0  \"unknown\"  \"no\"  \n",
       "4519  \"feb\"      129        4   211        3    \"other\"  \"no\"  \n",
       "4520  \"apr\"      345        2   249        7    \"other\"  \"no\"  \n",
       "\n",
       "[4521 rows x 18 columns]"
      ]
     },
     "execution_count": 8,
     "metadata": {},
     "output_type": "execute_result"
    }
   ],
   "source": [
    "df"
   ]
  },
  {
   "cell_type": "code",
   "execution_count": 9,
   "id": "0d9d64a6-b42c-441f-82ad-54ee3b9f5da2",
   "metadata": {},
   "outputs": [],
   "source": [
    "## Menghapus kolom 'a\n",
    "df = df.drop(columns=['a'])"
   ]
  },
  {
   "cell_type": "code",
   "execution_count": 10,
   "id": "6770a8d0-4d7b-4ddf-9c3c-7efcaed665fc",
   "metadata": {},
   "outputs": [
    {
     "data": {
      "text/html": [
       "<div>\n",
       "<style scoped>\n",
       "    .dataframe tbody tr th:only-of-type {\n",
       "        vertical-align: middle;\n",
       "    }\n",
       "\n",
       "    .dataframe tbody tr th {\n",
       "        vertical-align: top;\n",
       "    }\n",
       "\n",
       "    .dataframe thead th {\n",
       "        text-align: right;\n",
       "    }\n",
       "</style>\n",
       "<table border=\"1\" class=\"dataframe\">\n",
       "  <thead>\n",
       "    <tr style=\"text-align: right;\">\n",
       "      <th></th>\n",
       "      <th>age</th>\n",
       "      <th>job</th>\n",
       "      <th>marital</th>\n",
       "      <th>education</th>\n",
       "      <th>default</th>\n",
       "      <th>balance</th>\n",
       "      <th>housing</th>\n",
       "      <th>loan</th>\n",
       "      <th>contact</th>\n",
       "      <th>day</th>\n",
       "      <th>month</th>\n",
       "      <th>duration</th>\n",
       "      <th>campaign</th>\n",
       "      <th>pdays</th>\n",
       "      <th>previous</th>\n",
       "      <th>poutcome</th>\n",
       "      <th>y</th>\n",
       "    </tr>\n",
       "  </thead>\n",
       "  <tbody>\n",
       "    <tr>\n",
       "      <th>0</th>\n",
       "      <td>30</td>\n",
       "      <td>\"unemployed\"</td>\n",
       "      <td>\"married\"</td>\n",
       "      <td>\"primary\"</td>\n",
       "      <td>\"no\"</td>\n",
       "      <td>1787</td>\n",
       "      <td>\"no\"</td>\n",
       "      <td>\"no\"</td>\n",
       "      <td>\"cellular\"</td>\n",
       "      <td>19</td>\n",
       "      <td>\"oct\"</td>\n",
       "      <td>79</td>\n",
       "      <td>1</td>\n",
       "      <td>-1</td>\n",
       "      <td>0</td>\n",
       "      <td>\"unknown\"</td>\n",
       "      <td>\"no\"</td>\n",
       "    </tr>\n",
       "    <tr>\n",
       "      <th>1</th>\n",
       "      <td>33</td>\n",
       "      <td>\"services\"</td>\n",
       "      <td>\"married\"</td>\n",
       "      <td>\"secondary\"</td>\n",
       "      <td>\"no\"</td>\n",
       "      <td>4789</td>\n",
       "      <td>\"yes\"</td>\n",
       "      <td>\"yes\"</td>\n",
       "      <td>\"cellular\"</td>\n",
       "      <td>11</td>\n",
       "      <td>\"may\"</td>\n",
       "      <td>220</td>\n",
       "      <td>1</td>\n",
       "      <td>339</td>\n",
       "      <td>4</td>\n",
       "      <td>\"failure\"</td>\n",
       "      <td>\"no\"</td>\n",
       "    </tr>\n",
       "    <tr>\n",
       "      <th>2</th>\n",
       "      <td>35</td>\n",
       "      <td>\"management\"</td>\n",
       "      <td>\"single\"</td>\n",
       "      <td>\"tertiary\"</td>\n",
       "      <td>\"no\"</td>\n",
       "      <td>1350</td>\n",
       "      <td>\"yes\"</td>\n",
       "      <td>\"no\"</td>\n",
       "      <td>\"cellular\"</td>\n",
       "      <td>16</td>\n",
       "      <td>\"apr\"</td>\n",
       "      <td>185</td>\n",
       "      <td>1</td>\n",
       "      <td>330</td>\n",
       "      <td>1</td>\n",
       "      <td>\"failure\"</td>\n",
       "      <td>\"no\"</td>\n",
       "    </tr>\n",
       "    <tr>\n",
       "      <th>3</th>\n",
       "      <td>30</td>\n",
       "      <td>\"management\"</td>\n",
       "      <td>\"married\"</td>\n",
       "      <td>\"tertiary\"</td>\n",
       "      <td>\"no\"</td>\n",
       "      <td>1476</td>\n",
       "      <td>\"yes\"</td>\n",
       "      <td>\"yes\"</td>\n",
       "      <td>\"unknown\"</td>\n",
       "      <td>3</td>\n",
       "      <td>\"jun\"</td>\n",
       "      <td>199</td>\n",
       "      <td>4</td>\n",
       "      <td>-1</td>\n",
       "      <td>0</td>\n",
       "      <td>\"unknown\"</td>\n",
       "      <td>\"no\"</td>\n",
       "    </tr>\n",
       "    <tr>\n",
       "      <th>4</th>\n",
       "      <td>59</td>\n",
       "      <td>\"blue-collar\"</td>\n",
       "      <td>\"married\"</td>\n",
       "      <td>\"secondary\"</td>\n",
       "      <td>\"no\"</td>\n",
       "      <td>0</td>\n",
       "      <td>\"yes\"</td>\n",
       "      <td>\"no\"</td>\n",
       "      <td>\"unknown\"</td>\n",
       "      <td>5</td>\n",
       "      <td>\"may\"</td>\n",
       "      <td>226</td>\n",
       "      <td>1</td>\n",
       "      <td>-1</td>\n",
       "      <td>0</td>\n",
       "      <td>\"unknown\"</td>\n",
       "      <td>\"no\"</td>\n",
       "    </tr>\n",
       "    <tr>\n",
       "      <th>...</th>\n",
       "      <td>...</td>\n",
       "      <td>...</td>\n",
       "      <td>...</td>\n",
       "      <td>...</td>\n",
       "      <td>...</td>\n",
       "      <td>...</td>\n",
       "      <td>...</td>\n",
       "      <td>...</td>\n",
       "      <td>...</td>\n",
       "      <td>...</td>\n",
       "      <td>...</td>\n",
       "      <td>...</td>\n",
       "      <td>...</td>\n",
       "      <td>...</td>\n",
       "      <td>...</td>\n",
       "      <td>...</td>\n",
       "      <td>...</td>\n",
       "    </tr>\n",
       "    <tr>\n",
       "      <th>4516</th>\n",
       "      <td>33</td>\n",
       "      <td>\"services\"</td>\n",
       "      <td>\"married\"</td>\n",
       "      <td>\"secondary\"</td>\n",
       "      <td>\"no\"</td>\n",
       "      <td>-333</td>\n",
       "      <td>\"yes\"</td>\n",
       "      <td>\"no\"</td>\n",
       "      <td>\"cellular\"</td>\n",
       "      <td>30</td>\n",
       "      <td>\"jul\"</td>\n",
       "      <td>329</td>\n",
       "      <td>5</td>\n",
       "      <td>-1</td>\n",
       "      <td>0</td>\n",
       "      <td>\"unknown\"</td>\n",
       "      <td>\"no\"</td>\n",
       "    </tr>\n",
       "    <tr>\n",
       "      <th>4517</th>\n",
       "      <td>57</td>\n",
       "      <td>\"self-employed\"</td>\n",
       "      <td>\"married\"</td>\n",
       "      <td>\"tertiary\"</td>\n",
       "      <td>\"yes\"</td>\n",
       "      <td>-3313</td>\n",
       "      <td>\"yes\"</td>\n",
       "      <td>\"yes\"</td>\n",
       "      <td>\"unknown\"</td>\n",
       "      <td>9</td>\n",
       "      <td>\"may\"</td>\n",
       "      <td>153</td>\n",
       "      <td>1</td>\n",
       "      <td>-1</td>\n",
       "      <td>0</td>\n",
       "      <td>\"unknown\"</td>\n",
       "      <td>\"no\"</td>\n",
       "    </tr>\n",
       "    <tr>\n",
       "      <th>4518</th>\n",
       "      <td>57</td>\n",
       "      <td>\"technician\"</td>\n",
       "      <td>\"married\"</td>\n",
       "      <td>\"secondary\"</td>\n",
       "      <td>\"no\"</td>\n",
       "      <td>295</td>\n",
       "      <td>\"no\"</td>\n",
       "      <td>\"no\"</td>\n",
       "      <td>\"cellular\"</td>\n",
       "      <td>19</td>\n",
       "      <td>\"aug\"</td>\n",
       "      <td>151</td>\n",
       "      <td>11</td>\n",
       "      <td>-1</td>\n",
       "      <td>0</td>\n",
       "      <td>\"unknown\"</td>\n",
       "      <td>\"no\"</td>\n",
       "    </tr>\n",
       "    <tr>\n",
       "      <th>4519</th>\n",
       "      <td>28</td>\n",
       "      <td>\"blue-collar\"</td>\n",
       "      <td>\"married\"</td>\n",
       "      <td>\"secondary\"</td>\n",
       "      <td>\"no\"</td>\n",
       "      <td>1137</td>\n",
       "      <td>\"no\"</td>\n",
       "      <td>\"no\"</td>\n",
       "      <td>\"cellular\"</td>\n",
       "      <td>6</td>\n",
       "      <td>\"feb\"</td>\n",
       "      <td>129</td>\n",
       "      <td>4</td>\n",
       "      <td>211</td>\n",
       "      <td>3</td>\n",
       "      <td>\"other\"</td>\n",
       "      <td>\"no\"</td>\n",
       "    </tr>\n",
       "    <tr>\n",
       "      <th>4520</th>\n",
       "      <td>44</td>\n",
       "      <td>\"entrepreneur\"</td>\n",
       "      <td>\"single\"</td>\n",
       "      <td>\"tertiary\"</td>\n",
       "      <td>\"no\"</td>\n",
       "      <td>1136</td>\n",
       "      <td>\"yes\"</td>\n",
       "      <td>\"yes\"</td>\n",
       "      <td>\"cellular\"</td>\n",
       "      <td>3</td>\n",
       "      <td>\"apr\"</td>\n",
       "      <td>345</td>\n",
       "      <td>2</td>\n",
       "      <td>249</td>\n",
       "      <td>7</td>\n",
       "      <td>\"other\"</td>\n",
       "      <td>\"no\"</td>\n",
       "    </tr>\n",
       "  </tbody>\n",
       "</table>\n",
       "<p>4521 rows × 17 columns</p>\n",
       "</div>"
      ],
      "text/plain": [
       "     age              job    marital    education default balance housing  \\\n",
       "0     30     \"unemployed\"  \"married\"    \"primary\"    \"no\"    1787    \"no\"   \n",
       "1     33       \"services\"  \"married\"  \"secondary\"    \"no\"    4789   \"yes\"   \n",
       "2     35     \"management\"   \"single\"   \"tertiary\"    \"no\"    1350   \"yes\"   \n",
       "3     30     \"management\"  \"married\"   \"tertiary\"    \"no\"    1476   \"yes\"   \n",
       "4     59    \"blue-collar\"  \"married\"  \"secondary\"    \"no\"       0   \"yes\"   \n",
       "...   ..              ...        ...          ...     ...     ...     ...   \n",
       "4516  33       \"services\"  \"married\"  \"secondary\"    \"no\"    -333   \"yes\"   \n",
       "4517  57  \"self-employed\"  \"married\"   \"tertiary\"   \"yes\"   -3313   \"yes\"   \n",
       "4518  57     \"technician\"  \"married\"  \"secondary\"    \"no\"     295    \"no\"   \n",
       "4519  28    \"blue-collar\"  \"married\"  \"secondary\"    \"no\"    1137    \"no\"   \n",
       "4520  44   \"entrepreneur\"   \"single\"   \"tertiary\"    \"no\"    1136   \"yes\"   \n",
       "\n",
       "       loan     contact day  month duration campaign pdays previous  \\\n",
       "0      \"no\"  \"cellular\"  19  \"oct\"       79        1    -1        0   \n",
       "1     \"yes\"  \"cellular\"  11  \"may\"      220        1   339        4   \n",
       "2      \"no\"  \"cellular\"  16  \"apr\"      185        1   330        1   \n",
       "3     \"yes\"   \"unknown\"   3  \"jun\"      199        4    -1        0   \n",
       "4      \"no\"   \"unknown\"   5  \"may\"      226        1    -1        0   \n",
       "...     ...         ...  ..    ...      ...      ...   ...      ...   \n",
       "4516   \"no\"  \"cellular\"  30  \"jul\"      329        5    -1        0   \n",
       "4517  \"yes\"   \"unknown\"   9  \"may\"      153        1    -1        0   \n",
       "4518   \"no\"  \"cellular\"  19  \"aug\"      151       11    -1        0   \n",
       "4519   \"no\"  \"cellular\"   6  \"feb\"      129        4   211        3   \n",
       "4520  \"yes\"  \"cellular\"   3  \"apr\"      345        2   249        7   \n",
       "\n",
       "       poutcome     y  \n",
       "0     \"unknown\"  \"no\"  \n",
       "1     \"failure\"  \"no\"  \n",
       "2     \"failure\"  \"no\"  \n",
       "3     \"unknown\"  \"no\"  \n",
       "4     \"unknown\"  \"no\"  \n",
       "...         ...   ...  \n",
       "4516  \"unknown\"  \"no\"  \n",
       "4517  \"unknown\"  \"no\"  \n",
       "4518  \"unknown\"  \"no\"  \n",
       "4519    \"other\"  \"no\"  \n",
       "4520    \"other\"  \"no\"  \n",
       "\n",
       "[4521 rows x 17 columns]"
      ]
     },
     "execution_count": 10,
     "metadata": {},
     "output_type": "execute_result"
    }
   ],
   "source": [
    "df"
   ]
  },
  {
   "cell_type": "code",
   "execution_count": 11,
   "id": "3a3ff18a-f22c-45e3-8af3-3d4ff94b316c",
   "metadata": {},
   "outputs": [
    {
     "data": {
      "text/plain": [
       "\"management\"       969\n",
       "\"blue-collar\"      946\n",
       "\"technician\"       768\n",
       "\"admin.\"           478\n",
       "\"services\"         417\n",
       "\"retired\"          230\n",
       "\"self-employed\"    183\n",
       "\"entrepreneur\"     168\n",
       "\"unemployed\"       128\n",
       "\"housemaid\"        112\n",
       "\"student\"           84\n",
       "\"unknown\"           38\n",
       "Name: job, dtype: int64"
      ]
     },
     "execution_count": 11,
     "metadata": {},
     "output_type": "execute_result"
    }
   ],
   "source": [
    "df['job'].value_counts()"
   ]
  },
  {
   "cell_type": "code",
   "execution_count": 12,
   "id": "d27a7f96-c46e-4e82-aa8a-3dca56c953bc",
   "metadata": {},
   "outputs": [],
   "source": [
    "## Mengubah data kategorikal menjadi data numerikal\n",
    "from sklearn.preprocessing import LabelEncoder\n",
    "le = LabelEncoder()\n",
    "df['job'] = le.fit_transform(df['job'])\n",
    "df['marital'] = le.fit_transform(df['marital'])\n",
    "df['education'] = le.fit_transform(df['education'])\n",
    "df['default'] = le.fit_transform(df['default'])\n",
    "df['balance'] = le.fit_transform(df['balance'])\n",
    "df['housing'] = le.fit_transform(df['housing'])\n",
    "df['loan'] = le.fit_transform(df['loan'])\n",
    "df['contact'] = le.fit_transform(df['contact'])\n",
    "df['month'] = le.fit_transform(df['month'])\n",
    "df['poutcome'] = le.fit_transform(df['poutcome'])\n"
   ]
  },
  {
   "cell_type": "code",
   "execution_count": 13,
   "id": "2d83b2d7-7e7c-4e08-8476-b79facb6a673",
   "metadata": {},
   "outputs": [
    {
     "data": {
      "text/html": [
       "<div>\n",
       "<style scoped>\n",
       "    .dataframe tbody tr th:only-of-type {\n",
       "        vertical-align: middle;\n",
       "    }\n",
       "\n",
       "    .dataframe tbody tr th {\n",
       "        vertical-align: top;\n",
       "    }\n",
       "\n",
       "    .dataframe thead th {\n",
       "        text-align: right;\n",
       "    }\n",
       "</style>\n",
       "<table border=\"1\" class=\"dataframe\">\n",
       "  <thead>\n",
       "    <tr style=\"text-align: right;\">\n",
       "      <th></th>\n",
       "      <th>age</th>\n",
       "      <th>job</th>\n",
       "      <th>marital</th>\n",
       "      <th>education</th>\n",
       "      <th>default</th>\n",
       "      <th>balance</th>\n",
       "      <th>housing</th>\n",
       "      <th>loan</th>\n",
       "      <th>contact</th>\n",
       "      <th>day</th>\n",
       "      <th>month</th>\n",
       "      <th>duration</th>\n",
       "      <th>campaign</th>\n",
       "      <th>pdays</th>\n",
       "      <th>previous</th>\n",
       "      <th>poutcome</th>\n",
       "      <th>y</th>\n",
       "    </tr>\n",
       "  </thead>\n",
       "  <tbody>\n",
       "    <tr>\n",
       "      <th>0</th>\n",
       "      <td>30</td>\n",
       "      <td>10</td>\n",
       "      <td>1</td>\n",
       "      <td>0</td>\n",
       "      <td>0</td>\n",
       "      <td>794</td>\n",
       "      <td>0</td>\n",
       "      <td>0</td>\n",
       "      <td>0</td>\n",
       "      <td>19</td>\n",
       "      <td>10</td>\n",
       "      <td>79</td>\n",
       "      <td>1</td>\n",
       "      <td>-1</td>\n",
       "      <td>0</td>\n",
       "      <td>3</td>\n",
       "      <td>\"no\"</td>\n",
       "    </tr>\n",
       "    <tr>\n",
       "      <th>1</th>\n",
       "      <td>33</td>\n",
       "      <td>7</td>\n",
       "      <td>1</td>\n",
       "      <td>1</td>\n",
       "      <td>0</td>\n",
       "      <td>1684</td>\n",
       "      <td>1</td>\n",
       "      <td>1</td>\n",
       "      <td>0</td>\n",
       "      <td>11</td>\n",
       "      <td>8</td>\n",
       "      <td>220</td>\n",
       "      <td>1</td>\n",
       "      <td>339</td>\n",
       "      <td>4</td>\n",
       "      <td>0</td>\n",
       "      <td>\"no\"</td>\n",
       "    </tr>\n",
       "    <tr>\n",
       "      <th>2</th>\n",
       "      <td>35</td>\n",
       "      <td>4</td>\n",
       "      <td>2</td>\n",
       "      <td>2</td>\n",
       "      <td>0</td>\n",
       "      <td>548</td>\n",
       "      <td>1</td>\n",
       "      <td>0</td>\n",
       "      <td>0</td>\n",
       "      <td>16</td>\n",
       "      <td>0</td>\n",
       "      <td>185</td>\n",
       "      <td>1</td>\n",
       "      <td>330</td>\n",
       "      <td>1</td>\n",
       "      <td>0</td>\n",
       "      <td>\"no\"</td>\n",
       "    </tr>\n",
       "    <tr>\n",
       "      <th>3</th>\n",
       "      <td>30</td>\n",
       "      <td>4</td>\n",
       "      <td>1</td>\n",
       "      <td>2</td>\n",
       "      <td>0</td>\n",
       "      <td>623</td>\n",
       "      <td>1</td>\n",
       "      <td>1</td>\n",
       "      <td>2</td>\n",
       "      <td>3</td>\n",
       "      <td>6</td>\n",
       "      <td>199</td>\n",
       "      <td>4</td>\n",
       "      <td>-1</td>\n",
       "      <td>0</td>\n",
       "      <td>3</td>\n",
       "      <td>\"no\"</td>\n",
       "    </tr>\n",
       "    <tr>\n",
       "      <th>4</th>\n",
       "      <td>59</td>\n",
       "      <td>1</td>\n",
       "      <td>1</td>\n",
       "      <td>1</td>\n",
       "      <td>0</td>\n",
       "      <td>274</td>\n",
       "      <td>1</td>\n",
       "      <td>0</td>\n",
       "      <td>2</td>\n",
       "      <td>5</td>\n",
       "      <td>8</td>\n",
       "      <td>226</td>\n",
       "      <td>1</td>\n",
       "      <td>-1</td>\n",
       "      <td>0</td>\n",
       "      <td>3</td>\n",
       "      <td>\"no\"</td>\n",
       "    </tr>\n",
       "    <tr>\n",
       "      <th>...</th>\n",
       "      <td>...</td>\n",
       "      <td>...</td>\n",
       "      <td>...</td>\n",
       "      <td>...</td>\n",
       "      <td>...</td>\n",
       "      <td>...</td>\n",
       "      <td>...</td>\n",
       "      <td>...</td>\n",
       "      <td>...</td>\n",
       "      <td>...</td>\n",
       "      <td>...</td>\n",
       "      <td>...</td>\n",
       "      <td>...</td>\n",
       "      <td>...</td>\n",
       "      <td>...</td>\n",
       "      <td>...</td>\n",
       "      <td>...</td>\n",
       "    </tr>\n",
       "    <tr>\n",
       "      <th>4516</th>\n",
       "      <td>33</td>\n",
       "      <td>7</td>\n",
       "      <td>1</td>\n",
       "      <td>1</td>\n",
       "      <td>0</td>\n",
       "      <td>127</td>\n",
       "      <td>1</td>\n",
       "      <td>0</td>\n",
       "      <td>0</td>\n",
       "      <td>30</td>\n",
       "      <td>5</td>\n",
       "      <td>329</td>\n",
       "      <td>5</td>\n",
       "      <td>-1</td>\n",
       "      <td>0</td>\n",
       "      <td>3</td>\n",
       "      <td>\"no\"</td>\n",
       "    </tr>\n",
       "    <tr>\n",
       "      <th>4517</th>\n",
       "      <td>57</td>\n",
       "      <td>6</td>\n",
       "      <td>1</td>\n",
       "      <td>2</td>\n",
       "      <td>1</td>\n",
       "      <td>126</td>\n",
       "      <td>1</td>\n",
       "      <td>1</td>\n",
       "      <td>2</td>\n",
       "      <td>9</td>\n",
       "      <td>8</td>\n",
       "      <td>153</td>\n",
       "      <td>1</td>\n",
       "      <td>-1</td>\n",
       "      <td>0</td>\n",
       "      <td>3</td>\n",
       "      <td>\"no\"</td>\n",
       "    </tr>\n",
       "    <tr>\n",
       "      <th>4518</th>\n",
       "      <td>57</td>\n",
       "      <td>9</td>\n",
       "      <td>1</td>\n",
       "      <td>1</td>\n",
       "      <td>0</td>\n",
       "      <td>1230</td>\n",
       "      <td>0</td>\n",
       "      <td>0</td>\n",
       "      <td>0</td>\n",
       "      <td>19</td>\n",
       "      <td>1</td>\n",
       "      <td>151</td>\n",
       "      <td>11</td>\n",
       "      <td>-1</td>\n",
       "      <td>0</td>\n",
       "      <td>3</td>\n",
       "      <td>\"no\"</td>\n",
       "    </tr>\n",
       "    <tr>\n",
       "      <th>4519</th>\n",
       "      <td>28</td>\n",
       "      <td>1</td>\n",
       "      <td>1</td>\n",
       "      <td>1</td>\n",
       "      <td>0</td>\n",
       "      <td>388</td>\n",
       "      <td>0</td>\n",
       "      <td>0</td>\n",
       "      <td>0</td>\n",
       "      <td>6</td>\n",
       "      <td>3</td>\n",
       "      <td>129</td>\n",
       "      <td>4</td>\n",
       "      <td>211</td>\n",
       "      <td>3</td>\n",
       "      <td>1</td>\n",
       "      <td>\"no\"</td>\n",
       "    </tr>\n",
       "    <tr>\n",
       "      <th>4520</th>\n",
       "      <td>44</td>\n",
       "      <td>2</td>\n",
       "      <td>2</td>\n",
       "      <td>2</td>\n",
       "      <td>0</td>\n",
       "      <td>387</td>\n",
       "      <td>1</td>\n",
       "      <td>1</td>\n",
       "      <td>0</td>\n",
       "      <td>3</td>\n",
       "      <td>0</td>\n",
       "      <td>345</td>\n",
       "      <td>2</td>\n",
       "      <td>249</td>\n",
       "      <td>7</td>\n",
       "      <td>1</td>\n",
       "      <td>\"no\"</td>\n",
       "    </tr>\n",
       "  </tbody>\n",
       "</table>\n",
       "<p>4521 rows × 17 columns</p>\n",
       "</div>"
      ],
      "text/plain": [
       "     age  job  marital  education  default  balance  housing  loan  contact  \\\n",
       "0     30   10        1          0        0      794        0     0        0   \n",
       "1     33    7        1          1        0     1684        1     1        0   \n",
       "2     35    4        2          2        0      548        1     0        0   \n",
       "3     30    4        1          2        0      623        1     1        2   \n",
       "4     59    1        1          1        0      274        1     0        2   \n",
       "...   ..  ...      ...        ...      ...      ...      ...   ...      ...   \n",
       "4516  33    7        1          1        0      127        1     0        0   \n",
       "4517  57    6        1          2        1      126        1     1        2   \n",
       "4518  57    9        1          1        0     1230        0     0        0   \n",
       "4519  28    1        1          1        0      388        0     0        0   \n",
       "4520  44    2        2          2        0      387        1     1        0   \n",
       "\n",
       "     day  month duration campaign pdays previous  poutcome     y  \n",
       "0     19     10       79        1    -1        0         3  \"no\"  \n",
       "1     11      8      220        1   339        4         0  \"no\"  \n",
       "2     16      0      185        1   330        1         0  \"no\"  \n",
       "3      3      6      199        4    -1        0         3  \"no\"  \n",
       "4      5      8      226        1    -1        0         3  \"no\"  \n",
       "...   ..    ...      ...      ...   ...      ...       ...   ...  \n",
       "4516  30      5      329        5    -1        0         3  \"no\"  \n",
       "4517   9      8      153        1    -1        0         3  \"no\"  \n",
       "4518  19      1      151       11    -1        0         3  \"no\"  \n",
       "4519   6      3      129        4   211        3         1  \"no\"  \n",
       "4520   3      0      345        2   249        7         1  \"no\"  \n",
       "\n",
       "[4521 rows x 17 columns]"
      ]
     },
     "execution_count": 13,
     "metadata": {},
     "output_type": "execute_result"
    }
   ],
   "source": [
    "df"
   ]
  },
  {
   "cell_type": "code",
   "execution_count": 14,
   "id": "22876d3f-0dda-4c08-b4c1-4723b7fb23eb",
   "metadata": {},
   "outputs": [
    {
     "data": {
      "text/plain": [
       "4     969\n",
       "1     946\n",
       "9     768\n",
       "0     478\n",
       "7     417\n",
       "5     230\n",
       "6     183\n",
       "2     168\n",
       "10    128\n",
       "3     112\n",
       "8      84\n",
       "11     38\n",
       "Name: job, dtype: int64"
      ]
     },
     "execution_count": 14,
     "metadata": {},
     "output_type": "execute_result"
    }
   ],
   "source": [
    "df['job'].value_counts()"
   ]
  },
  {
   "cell_type": "code",
   "execution_count": 15,
   "id": "b0188a59-6be3-4557-a835-a3d5b878d097",
   "metadata": {},
   "outputs": [
    {
     "data": {
      "text/plain": [
       "0    2896\n",
       "2    1324\n",
       "1     301\n",
       "Name: contact, dtype: int64"
      ]
     },
     "execution_count": 15,
     "metadata": {},
     "output_type": "execute_result"
    }
   ],
   "source": [
    "df['contact'].value_counts()"
   ]
  },
  {
   "cell_type": "code",
   "execution_count": 16,
   "id": "dfda847a-72bf-4c86-ae2c-9d098a40429a",
   "metadata": {},
   "outputs": [
    {
     "data": {
      "text/plain": [
       "3    3705\n",
       "0     490\n",
       "1     197\n",
       "2     129\n",
       "Name: poutcome, dtype: int64"
      ]
     },
     "execution_count": 16,
     "metadata": {},
     "output_type": "execute_result"
    }
   ],
   "source": [
    "df['poutcome'].value_counts()"
   ]
  },
  {
   "cell_type": "markdown",
   "id": "d30ca4d0-5134-424e-9954-40e59d4b84b5",
   "metadata": {
    "tags": []
   },
   "source": [
    "## Logistic Regression"
   ]
  },
  {
   "cell_type": "code",
   "execution_count": 17,
   "id": "6a62121a-be25-46b7-99ef-b7ab9113da06",
   "metadata": {},
   "outputs": [],
   "source": [
    "import matplotlib.pyplot as plt\n",
    "from sklearn.linear_model import LogisticRegression\n",
    "from sklearn.metrics import classification_report, confusion_matrix"
   ]
  },
  {
   "cell_type": "code",
   "execution_count": 18,
   "id": "ee9a1800-e9eb-4e2c-9487-0cb78136d3ff",
   "metadata": {},
   "outputs": [],
   "source": [
    "model = LogisticRegression(solver='liblinear',random_state =0)"
   ]
  },
  {
   "cell_type": "code",
   "execution_count": 19,
   "id": "3cb2e228-4c6d-4e41-bd33-4cb227867476",
   "metadata": {},
   "outputs": [],
   "source": [
    "X = df[['age', 'job', 'marital', 'education', 'default', 'balance', 'housing', 'loan', 'contact', 'day', 'month', 'duration', 'campaign', 'pdays', 'previous', 'poutcome']]\n",
    "y = df['y']"
   ]
  },
  {
   "cell_type": "code",
   "execution_count": 20,
   "id": "92cd6508-3343-4b5b-abb6-86e220a42a6c",
   "metadata": {},
   "outputs": [
    {
     "data": {
      "text/html": [
       "<style>#sk-container-id-1 {color: black;background-color: white;}#sk-container-id-1 pre{padding: 0;}#sk-container-id-1 div.sk-toggleable {background-color: white;}#sk-container-id-1 label.sk-toggleable__label {cursor: pointer;display: block;width: 100%;margin-bottom: 0;padding: 0.3em;box-sizing: border-box;text-align: center;}#sk-container-id-1 label.sk-toggleable__label-arrow:before {content: \"▸\";float: left;margin-right: 0.25em;color: #696969;}#sk-container-id-1 label.sk-toggleable__label-arrow:hover:before {color: black;}#sk-container-id-1 div.sk-estimator:hover label.sk-toggleable__label-arrow:before {color: black;}#sk-container-id-1 div.sk-toggleable__content {max-height: 0;max-width: 0;overflow: hidden;text-align: left;background-color: #f0f8ff;}#sk-container-id-1 div.sk-toggleable__content pre {margin: 0.2em;color: black;border-radius: 0.25em;background-color: #f0f8ff;}#sk-container-id-1 input.sk-toggleable__control:checked~div.sk-toggleable__content {max-height: 200px;max-width: 100%;overflow: auto;}#sk-container-id-1 input.sk-toggleable__control:checked~label.sk-toggleable__label-arrow:before {content: \"▾\";}#sk-container-id-1 div.sk-estimator input.sk-toggleable__control:checked~label.sk-toggleable__label {background-color: #d4ebff;}#sk-container-id-1 div.sk-label input.sk-toggleable__control:checked~label.sk-toggleable__label {background-color: #d4ebff;}#sk-container-id-1 input.sk-hidden--visually {border: 0;clip: rect(1px 1px 1px 1px);clip: rect(1px, 1px, 1px, 1px);height: 1px;margin: -1px;overflow: hidden;padding: 0;position: absolute;width: 1px;}#sk-container-id-1 div.sk-estimator {font-family: monospace;background-color: #f0f8ff;border: 1px dotted black;border-radius: 0.25em;box-sizing: border-box;margin-bottom: 0.5em;}#sk-container-id-1 div.sk-estimator:hover {background-color: #d4ebff;}#sk-container-id-1 div.sk-parallel-item::after {content: \"\";width: 100%;border-bottom: 1px solid gray;flex-grow: 1;}#sk-container-id-1 div.sk-label:hover label.sk-toggleable__label {background-color: #d4ebff;}#sk-container-id-1 div.sk-serial::before {content: \"\";position: absolute;border-left: 1px solid gray;box-sizing: border-box;top: 0;bottom: 0;left: 50%;z-index: 0;}#sk-container-id-1 div.sk-serial {display: flex;flex-direction: column;align-items: center;background-color: white;padding-right: 0.2em;padding-left: 0.2em;position: relative;}#sk-container-id-1 div.sk-item {position: relative;z-index: 1;}#sk-container-id-1 div.sk-parallel {display: flex;align-items: stretch;justify-content: center;background-color: white;position: relative;}#sk-container-id-1 div.sk-item::before, #sk-container-id-1 div.sk-parallel-item::before {content: \"\";position: absolute;border-left: 1px solid gray;box-sizing: border-box;top: 0;bottom: 0;left: 50%;z-index: -1;}#sk-container-id-1 div.sk-parallel-item {display: flex;flex-direction: column;z-index: 1;position: relative;background-color: white;}#sk-container-id-1 div.sk-parallel-item:first-child::after {align-self: flex-end;width: 50%;}#sk-container-id-1 div.sk-parallel-item:last-child::after {align-self: flex-start;width: 50%;}#sk-container-id-1 div.sk-parallel-item:only-child::after {width: 0;}#sk-container-id-1 div.sk-dashed-wrapped {border: 1px dashed gray;margin: 0 0.4em 0.5em 0.4em;box-sizing: border-box;padding-bottom: 0.4em;background-color: white;}#sk-container-id-1 div.sk-label label {font-family: monospace;font-weight: bold;display: inline-block;line-height: 1.2em;}#sk-container-id-1 div.sk-label-container {text-align: center;}#sk-container-id-1 div.sk-container {/* jupyter's `normalize.less` sets `[hidden] { display: none; }` but bootstrap.min.css set `[hidden] { display: none !important; }` so we also need the `!important` here to be able to override the default hidden behavior on the sphinx rendered scikit-learn.org. See: https://github.com/scikit-learn/scikit-learn/issues/21755 */display: inline-block !important;position: relative;}#sk-container-id-1 div.sk-text-repr-fallback {display: none;}</style><div id=\"sk-container-id-1\" class=\"sk-top-container\"><div class=\"sk-text-repr-fallback\"><pre>LogisticRegression(random_state=0, solver=&#x27;liblinear&#x27;)</pre><b>In a Jupyter environment, please rerun this cell to show the HTML representation or trust the notebook. <br />On GitHub, the HTML representation is unable to render, please try loading this page with nbviewer.org.</b></div><div class=\"sk-container\" hidden><div class=\"sk-item\"><div class=\"sk-estimator sk-toggleable\"><input class=\"sk-toggleable__control sk-hidden--visually\" id=\"sk-estimator-id-1\" type=\"checkbox\" checked><label for=\"sk-estimator-id-1\" class=\"sk-toggleable__label sk-toggleable__label-arrow\">LogisticRegression</label><div class=\"sk-toggleable__content\"><pre>LogisticRegression(random_state=0, solver=&#x27;liblinear&#x27;)</pre></div></div></div></div></div>"
      ],
      "text/plain": [
       "LogisticRegression(random_state=0, solver='liblinear')"
      ]
     },
     "execution_count": 20,
     "metadata": {},
     "output_type": "execute_result"
    }
   ],
   "source": [
    "model.fit(X,y)"
   ]
  },
  {
   "cell_type": "code",
   "execution_count": 21,
   "id": "59614f7d-3df1-4964-b95c-bc501e6a79ea",
   "metadata": {},
   "outputs": [
    {
     "data": {
      "text/plain": [
       "array(['\"no\"', '\"yes\"'], dtype=object)"
      ]
     },
     "execution_count": 21,
     "metadata": {},
     "output_type": "execute_result"
    }
   ],
   "source": [
    "model.classes_"
   ]
  },
  {
   "cell_type": "code",
   "execution_count": 22,
   "id": "8bb1eadc-c8d9-459f-b5d1-f8662fd37f33",
   "metadata": {},
   "outputs": [
    {
     "name": "stdout",
     "output_type": "stream",
     "text": [
      "[-2.66564217] [[ 1.34157405e-03  5.11297284e-03 -7.89321399e-02  6.40991427e-02\n",
      "   1.49457615e-01 -3.69356501e-05 -8.43364656e-01 -8.57731562e-01\n",
      "  -6.25803855e-01 -1.66819758e-03  1.02153601e-02  3.90313546e-03\n",
      "  -1.02744456e-01  1.95237519e-03  8.44150835e-02  4.89886967e-02]]\n"
     ]
    }
   ],
   "source": [
    "print(model.intercept_, model.coef_)"
   ]
  },
  {
   "cell_type": "code",
   "execution_count": 23,
   "id": "06d753b3-beb3-4840-afe5-d4ce6612acdb",
   "metadata": {},
   "outputs": [
    {
     "data": {
      "text/plain": [
       "array([[0.90563358, 0.09436642],\n",
       "       [0.92722844, 0.07277156],\n",
       "       [0.89753798, 0.10246202],\n",
       "       ...,\n",
       "       [0.95350065, 0.04649935],\n",
       "       [0.86113876, 0.13886124],\n",
       "       [0.88887682, 0.11112318]])"
      ]
     },
     "execution_count": 23,
     "metadata": {},
     "output_type": "execute_result"
    }
   ],
   "source": [
    "model.predict_proba(X)"
   ]
  },
  {
   "cell_type": "code",
   "execution_count": 24,
   "id": "040ee27f-88ef-42d7-999c-3a1809075611",
   "metadata": {},
   "outputs": [],
   "source": [
    "y_pred = model.predict(X)"
   ]
  },
  {
   "cell_type": "code",
   "execution_count": 25,
   "id": "e9c5159c-fe35-4d4b-962d-a59058c5689e",
   "metadata": {},
   "outputs": [
    {
     "data": {
      "text/plain": [
       "0.8900685689006856"
      ]
     },
     "execution_count": 25,
     "metadata": {},
     "output_type": "execute_result"
    }
   ],
   "source": [
    "model.score(X,y)"
   ]
  },
  {
   "cell_type": "code",
   "execution_count": 26,
   "id": "f0127181-8f6d-45a2-aa38-7b0fc3666150",
   "metadata": {},
   "outputs": [
    {
     "data": {
      "text/plain": [
       "array([[3925,   75],\n",
       "       [ 422,   99]], dtype=int64)"
      ]
     },
     "execution_count": 26,
     "metadata": {},
     "output_type": "execute_result"
    }
   ],
   "source": [
    "confusion_matrix(y, y_pred)"
   ]
  },
  {
   "cell_type": "code",
   "execution_count": 27,
   "id": "95b92c32-b3b8-4ddf-b8f0-ef2e27aab305",
   "metadata": {},
   "outputs": [
    {
     "data": {
      "image/png": "[encoded data removed]",
      "text/plain": [
       "<Figure size 800x800 with 1 Axes>"
      ]
     },
     "metadata": {},
     "output_type": "display_data"
    }
   ],
   "source": [
    "cm = confusion_matrix(y,y_pred)\n",
    "fig, ax = plt.subplots(figsize=(8,8))\n",
    "ax.imshow(cm)\n",
    "ax.grid(False)\n",
    "ax.xaxis.set(ticks=(0,1),ticklabels = ('Predicted No','Predicted Yes'))\n",
    "ax.yaxis.set(ticks=(0,1),ticklabels = ('Actual No','Actual Yes'))\n",
    "ax.set_ylim(1.5,-0.5)\n",
    "for i in range(2):\n",
    "    for j in range(2):\n",
    "        ax.text(j,i,cm[i,j],ha='center',va='center',color='red')\n",
    "plt.show()"
   ]
  },
  {
   "cell_type": "markdown",
   "id": "d740552c-7f6c-401d-b21c-d502bbcad3ef",
   "metadata": {},
   "source": [
    "Dari 4521 data customer Bank, dengan menggunakan Logistic Regression dan dari Confusion Metrix di atas, dapat ditarik kesimpulan bahwa \n",
    "\n",
    "Ada 3925 nasabah yang benar-benar tidak membeli produk bank (true negative).\n",
    "\n",
    "Ada 422 nasabah yang salah diprediksi tidak membeli produk bank, padahal sebenarnya mereka membeli (false negative).\n",
    "\n",
    "Ada 75 nasabah yang salah diprediksi membeli produk bank, padahal sebenarnya mereka tidak membeli (false positive).\n",
    "\n",
    "Ada 99 nasabah yang benar-benar membeli produk bank (true positive)."
   ]
  },
  {
   "cell_type": "code",
   "execution_count": 28,
   "id": "721552fd-1f67-4eac-b548-9cce8a9fc9a1",
   "metadata": {},
   "outputs": [
    {
     "name": "stdout",
     "output_type": "stream",
     "text": [
      "Akurasi :  0.8900685689006856\n",
      "Presisi :  0.19001919385796545\n",
      "Recall :  0.5689655172413793\n",
      "F1 :  0.28489208633093527\n"
     ]
    }
   ],
   "source": [
    "## Mengevaluasi kinerja model\n",
    "TN = 3925\n",
    "FN = 75\n",
    "FP = 422 \n",
    "TP = 99\n",
    "\n",
    "acc = (TP+TN)/(TP+FP+TN+FN)\n",
    "pre = (TP) / (TP+FP)\n",
    "re = (TP) /(TP+FN)\n",
    "f1 = (TP+TP) / (TP+TP+FP+FN)\n",
    "print('Akurasi : ',acc)\n",
    "print('Presisi : ',pre)\n",
    "print('Recall : ',re)\n",
    "print('F1 : ',f1)"
   ]
  },
  {
   "cell_type": "markdown",
   "id": "d76b72fc-0aca-4f8a-ab44-66c08a40e4df",
   "metadata": {},
   "source": [
    "## K-Nearest Neighbor (KNN)"
   ]
  },
  {
   "cell_type": "code",
   "execution_count": 29,
   "id": "aa72d5cc-c0c9-4fcc-a384-bc678844317c",
   "metadata": {},
   "outputs": [],
   "source": [
    "# Import library\n",
    "import pandas as pd\n",
    "from sklearn.neighbors import KNeighborsClassifier\n",
    "from sklearn.model_selection import train_test_split\n",
    "from sklearn.preprocessing import LabelEncoder\n",
    "from sklearn.metrics import accuracy_score, confusion_matrix"
   ]
  },
  {
   "cell_type": "code",
   "execution_count": 30,
   "id": "87ab6f90-155e-4f9a-b40a-6f56d7ffbd45",
   "metadata": {},
   "outputs": [
    {
     "data": {
      "text/html": [
       "<div>\n",
       "<style scoped>\n",
       "    .dataframe tbody tr th:only-of-type {\n",
       "        vertical-align: middle;\n",
       "    }\n",
       "\n",
       "    .dataframe tbody tr th {\n",
       "        vertical-align: top;\n",
       "    }\n",
       "\n",
       "    .dataframe thead th {\n",
       "        text-align: right;\n",
       "    }\n",
       "</style>\n",
       "<table border=\"1\" class=\"dataframe\">\n",
       "  <thead>\n",
       "    <tr style=\"text-align: right;\">\n",
       "      <th></th>\n",
       "      <th>age</th>\n",
       "      <th>job</th>\n",
       "      <th>marital</th>\n",
       "      <th>education</th>\n",
       "      <th>default</th>\n",
       "      <th>balance</th>\n",
       "      <th>housing</th>\n",
       "      <th>loan</th>\n",
       "      <th>contact</th>\n",
       "      <th>day</th>\n",
       "      <th>month</th>\n",
       "      <th>duration</th>\n",
       "      <th>campaign</th>\n",
       "      <th>pdays</th>\n",
       "      <th>previous</th>\n",
       "      <th>poutcome</th>\n",
       "    </tr>\n",
       "  </thead>\n",
       "  <tbody>\n",
       "    <tr>\n",
       "      <th>0</th>\n",
       "      <td>30</td>\n",
       "      <td>10</td>\n",
       "      <td>1</td>\n",
       "      <td>0</td>\n",
       "      <td>0</td>\n",
       "      <td>794</td>\n",
       "      <td>0</td>\n",
       "      <td>0</td>\n",
       "      <td>0</td>\n",
       "      <td>19</td>\n",
       "      <td>10</td>\n",
       "      <td>79</td>\n",
       "      <td>1</td>\n",
       "      <td>-1</td>\n",
       "      <td>0</td>\n",
       "      <td>3</td>\n",
       "    </tr>\n",
       "    <tr>\n",
       "      <th>1</th>\n",
       "      <td>33</td>\n",
       "      <td>7</td>\n",
       "      <td>1</td>\n",
       "      <td>1</td>\n",
       "      <td>0</td>\n",
       "      <td>1684</td>\n",
       "      <td>1</td>\n",
       "      <td>1</td>\n",
       "      <td>0</td>\n",
       "      <td>11</td>\n",
       "      <td>8</td>\n",
       "      <td>220</td>\n",
       "      <td>1</td>\n",
       "      <td>339</td>\n",
       "      <td>4</td>\n",
       "      <td>0</td>\n",
       "    </tr>\n",
       "    <tr>\n",
       "      <th>2</th>\n",
       "      <td>35</td>\n",
       "      <td>4</td>\n",
       "      <td>2</td>\n",
       "      <td>2</td>\n",
       "      <td>0</td>\n",
       "      <td>548</td>\n",
       "      <td>1</td>\n",
       "      <td>0</td>\n",
       "      <td>0</td>\n",
       "      <td>16</td>\n",
       "      <td>0</td>\n",
       "      <td>185</td>\n",
       "      <td>1</td>\n",
       "      <td>330</td>\n",
       "      <td>1</td>\n",
       "      <td>0</td>\n",
       "    </tr>\n",
       "    <tr>\n",
       "      <th>3</th>\n",
       "      <td>30</td>\n",
       "      <td>4</td>\n",
       "      <td>1</td>\n",
       "      <td>2</td>\n",
       "      <td>0</td>\n",
       "      <td>623</td>\n",
       "      <td>1</td>\n",
       "      <td>1</td>\n",
       "      <td>2</td>\n",
       "      <td>3</td>\n",
       "      <td>6</td>\n",
       "      <td>199</td>\n",
       "      <td>4</td>\n",
       "      <td>-1</td>\n",
       "      <td>0</td>\n",
       "      <td>3</td>\n",
       "    </tr>\n",
       "    <tr>\n",
       "      <th>4</th>\n",
       "      <td>59</td>\n",
       "      <td>1</td>\n",
       "      <td>1</td>\n",
       "      <td>1</td>\n",
       "      <td>0</td>\n",
       "      <td>274</td>\n",
       "      <td>1</td>\n",
       "      <td>0</td>\n",
       "      <td>2</td>\n",
       "      <td>5</td>\n",
       "      <td>8</td>\n",
       "      <td>226</td>\n",
       "      <td>1</td>\n",
       "      <td>-1</td>\n",
       "      <td>0</td>\n",
       "      <td>3</td>\n",
       "    </tr>\n",
       "    <tr>\n",
       "      <th>...</th>\n",
       "      <td>...</td>\n",
       "      <td>...</td>\n",
       "      <td>...</td>\n",
       "      <td>...</td>\n",
       "      <td>...</td>\n",
       "      <td>...</td>\n",
       "      <td>...</td>\n",
       "      <td>...</td>\n",
       "      <td>...</td>\n",
       "      <td>...</td>\n",
       "      <td>...</td>\n",
       "      <td>...</td>\n",
       "      <td>...</td>\n",
       "      <td>...</td>\n",
       "      <td>...</td>\n",
       "      <td>...</td>\n",
       "    </tr>\n",
       "    <tr>\n",
       "      <th>4516</th>\n",
       "      <td>33</td>\n",
       "      <td>7</td>\n",
       "      <td>1</td>\n",
       "      <td>1</td>\n",
       "      <td>0</td>\n",
       "      <td>127</td>\n",
       "      <td>1</td>\n",
       "      <td>0</td>\n",
       "      <td>0</td>\n",
       "      <td>30</td>\n",
       "      <td>5</td>\n",
       "      <td>329</td>\n",
       "      <td>5</td>\n",
       "      <td>-1</td>\n",
       "      <td>0</td>\n",
       "      <td>3</td>\n",
       "    </tr>\n",
       "    <tr>\n",
       "      <th>4517</th>\n",
       "      <td>57</td>\n",
       "      <td>6</td>\n",
       "      <td>1</td>\n",
       "      <td>2</td>\n",
       "      <td>1</td>\n",
       "      <td>126</td>\n",
       "      <td>1</td>\n",
       "      <td>1</td>\n",
       "      <td>2</td>\n",
       "      <td>9</td>\n",
       "      <td>8</td>\n",
       "      <td>153</td>\n",
       "      <td>1</td>\n",
       "      <td>-1</td>\n",
       "      <td>0</td>\n",
       "      <td>3</td>\n",
       "    </tr>\n",
       "    <tr>\n",
       "      <th>4518</th>\n",
       "      <td>57</td>\n",
       "      <td>9</td>\n",
       "      <td>1</td>\n",
       "      <td>1</td>\n",
       "      <td>0</td>\n",
       "      <td>1230</td>\n",
       "      <td>0</td>\n",
       "      <td>0</td>\n",
       "      <td>0</td>\n",
       "      <td>19</td>\n",
       "      <td>1</td>\n",
       "      <td>151</td>\n",
       "      <td>11</td>\n",
       "      <td>-1</td>\n",
       "      <td>0</td>\n",
       "      <td>3</td>\n",
       "    </tr>\n",
       "    <tr>\n",
       "      <th>4519</th>\n",
       "      <td>28</td>\n",
       "      <td>1</td>\n",
       "      <td>1</td>\n",
       "      <td>1</td>\n",
       "      <td>0</td>\n",
       "      <td>388</td>\n",
       "      <td>0</td>\n",
       "      <td>0</td>\n",
       "      <td>0</td>\n",
       "      <td>6</td>\n",
       "      <td>3</td>\n",
       "      <td>129</td>\n",
       "      <td>4</td>\n",
       "      <td>211</td>\n",
       "      <td>3</td>\n",
       "      <td>1</td>\n",
       "    </tr>\n",
       "    <tr>\n",
       "      <th>4520</th>\n",
       "      <td>44</td>\n",
       "      <td>2</td>\n",
       "      <td>2</td>\n",
       "      <td>2</td>\n",
       "      <td>0</td>\n",
       "      <td>387</td>\n",
       "      <td>1</td>\n",
       "      <td>1</td>\n",
       "      <td>0</td>\n",
       "      <td>3</td>\n",
       "      <td>0</td>\n",
       "      <td>345</td>\n",
       "      <td>2</td>\n",
       "      <td>249</td>\n",
       "      <td>7</td>\n",
       "      <td>1</td>\n",
       "    </tr>\n",
       "  </tbody>\n",
       "</table>\n",
       "<p>4521 rows × 16 columns</p>\n",
       "</div>"
      ],
      "text/plain": [
       "     age  job  marital  education  default  balance  housing  loan  contact  \\\n",
       "0     30   10        1          0        0      794        0     0        0   \n",
       "1     33    7        1          1        0     1684        1     1        0   \n",
       "2     35    4        2          2        0      548        1     0        0   \n",
       "3     30    4        1          2        0      623        1     1        2   \n",
       "4     59    1        1          1        0      274        1     0        2   \n",
       "...   ..  ...      ...        ...      ...      ...      ...   ...      ...   \n",
       "4516  33    7        1          1        0      127        1     0        0   \n",
       "4517  57    6        1          2        1      126        1     1        2   \n",
       "4518  57    9        1          1        0     1230        0     0        0   \n",
       "4519  28    1        1          1        0      388        0     0        0   \n",
       "4520  44    2        2          2        0      387        1     1        0   \n",
       "\n",
       "     day  month duration campaign pdays previous  poutcome  \n",
       "0     19     10       79        1    -1        0         3  \n",
       "1     11      8      220        1   339        4         0  \n",
       "2     16      0      185        1   330        1         0  \n",
       "3      3      6      199        4    -1        0         3  \n",
       "4      5      8      226        1    -1        0         3  \n",
       "...   ..    ...      ...      ...   ...      ...       ...  \n",
       "4516  30      5      329        5    -1        0         3  \n",
       "4517   9      8      153        1    -1        0         3  \n",
       "4518  19      1      151       11    -1        0         3  \n",
       "4519   6      3      129        4   211        3         1  \n",
       "4520   3      0      345        2   249        7         1  \n",
       "\n",
       "[4521 rows x 16 columns]"
      ]
     },
     "execution_count": 30,
     "metadata": {},
     "output_type": "execute_result"
    }
   ],
   "source": [
    "X"
   ]
  },
  {
   "cell_type": "code",
   "execution_count": 31,
   "id": "9ba4eca0-bc23-4893-96f1-2f130fae48c7",
   "metadata": {},
   "outputs": [
    {
     "data": {
      "text/plain": [
       "0       \"no\"\n",
       "1       \"no\"\n",
       "2       \"no\"\n",
       "3       \"no\"\n",
       "4       \"no\"\n",
       "        ... \n",
       "4516    \"no\"\n",
       "4517    \"no\"\n",
       "4518    \"no\"\n",
       "4519    \"no\"\n",
       "4520    \"no\"\n",
       "Name: y, Length: 4521, dtype: object"
      ]
     },
     "execution_count": 31,
     "metadata": {},
     "output_type": "execute_result"
    }
   ],
   "source": [
    "y"
   ]
  },
  {
   "cell_type": "code",
   "execution_count": 32,
   "id": "2be16663-1cc1-4190-86f9-8ea37a6ff036",
   "metadata": {},
   "outputs": [],
   "source": [
    "df['y'] = le.fit_transform(df['y'])"
   ]
  },
  {
   "cell_type": "code",
   "execution_count": 33,
   "id": "bd9d4220-2e3e-499d-9537-529e6b670155",
   "metadata": {},
   "outputs": [
    {
     "data": {
      "text/plain": [
       "0       0\n",
       "1       0\n",
       "2       0\n",
       "3       0\n",
       "4       0\n",
       "       ..\n",
       "4516    0\n",
       "4517    0\n",
       "4518    0\n",
       "4519    0\n",
       "4520    0\n",
       "Name: y, Length: 4521, dtype: int32"
      ]
     },
     "execution_count": 33,
     "metadata": {},
     "output_type": "execute_result"
    }
   ],
   "source": [
    "df['y']"
   ]
  },
  {
   "cell_type": "code",
   "execution_count": 34,
   "id": "88f6fe97-a975-479f-b7bb-395b7bc0bd8a",
   "metadata": {},
   "outputs": [],
   "source": [
    "## Splitting data\n",
    "X_train , X_test , y_train, y_test = train_test_split(X,y,test_size=0.3,random_state=2024) ## testsize 0.3 berarti 70% training, 30% test"
   ]
  },
  {
   "cell_type": "code",
   "execution_count": 35,
   "id": "4e8667e6-eb10-4059-bb61-01f8ba428cb4",
   "metadata": {},
   "outputs": [
    {
     "data": {
      "text/html": [
       "<style>#sk-container-id-2 {color: black;background-color: white;}#sk-container-id-2 pre{padding: 0;}#sk-container-id-2 div.sk-toggleable {background-color: white;}#sk-container-id-2 label.sk-toggleable__label {cursor: pointer;display: block;width: 100%;margin-bottom: 0;padding: 0.3em;box-sizing: border-box;text-align: center;}#sk-container-id-2 label.sk-toggleable__label-arrow:before {content: \"▸\";float: left;margin-right: 0.25em;color: #696969;}#sk-container-id-2 label.sk-toggleable__label-arrow:hover:before {color: black;}#sk-container-id-2 div.sk-estimator:hover label.sk-toggleable__label-arrow:before {color: black;}#sk-container-id-2 div.sk-toggleable__content {max-height: 0;max-width: 0;overflow: hidden;text-align: left;background-color: #f0f8ff;}#sk-container-id-2 div.sk-toggleable__content pre {margin: 0.2em;color: black;border-radius: 0.25em;background-color: #f0f8ff;}#sk-container-id-2 input.sk-toggleable__control:checked~div.sk-toggleable__content {max-height: 200px;max-width: 100%;overflow: auto;}#sk-container-id-2 input.sk-toggleable__control:checked~label.sk-toggleable__label-arrow:before {content: \"▾\";}#sk-container-id-2 div.sk-estimator input.sk-toggleable__control:checked~label.sk-toggleable__label {background-color: #d4ebff;}#sk-container-id-2 div.sk-label input.sk-toggleable__control:checked~label.sk-toggleable__label {background-color: #d4ebff;}#sk-container-id-2 input.sk-hidden--visually {border: 0;clip: rect(1px 1px 1px 1px);clip: rect(1px, 1px, 1px, 1px);height: 1px;margin: -1px;overflow: hidden;padding: 0;position: absolute;width: 1px;}#sk-container-id-2 div.sk-estimator {font-family: monospace;background-color: #f0f8ff;border: 1px dotted black;border-radius: 0.25em;box-sizing: border-box;margin-bottom: 0.5em;}#sk-container-id-2 div.sk-estimator:hover {background-color: #d4ebff;}#sk-container-id-2 div.sk-parallel-item::after {content: \"\";width: 100%;border-bottom: 1px solid gray;flex-grow: 1;}#sk-container-id-2 div.sk-label:hover label.sk-toggleable__label {background-color: #d4ebff;}#sk-container-id-2 div.sk-serial::before {content: \"\";position: absolute;border-left: 1px solid gray;box-sizing: border-box;top: 0;bottom: 0;left: 50%;z-index: 0;}#sk-container-id-2 div.sk-serial {display: flex;flex-direction: column;align-items: center;background-color: white;padding-right: 0.2em;padding-left: 0.2em;position: relative;}#sk-container-id-2 div.sk-item {position: relative;z-index: 1;}#sk-container-id-2 div.sk-parallel {display: flex;align-items: stretch;justify-content: center;background-color: white;position: relative;}#sk-container-id-2 div.sk-item::before, #sk-container-id-2 div.sk-parallel-item::before {content: \"\";position: absolute;border-left: 1px solid gray;box-sizing: border-box;top: 0;bottom: 0;left: 50%;z-index: -1;}#sk-container-id-2 div.sk-parallel-item {display: flex;flex-direction: column;z-index: 1;position: relative;background-color: white;}#sk-container-id-2 div.sk-parallel-item:first-child::after {align-self: flex-end;width: 50%;}#sk-container-id-2 div.sk-parallel-item:last-child::after {align-self: flex-start;width: 50%;}#sk-container-id-2 div.sk-parallel-item:only-child::after {width: 0;}#sk-container-id-2 div.sk-dashed-wrapped {border: 1px dashed gray;margin: 0 0.4em 0.5em 0.4em;box-sizing: border-box;padding-bottom: 0.4em;background-color: white;}#sk-container-id-2 div.sk-label label {font-family: monospace;font-weight: bold;display: inline-block;line-height: 1.2em;}#sk-container-id-2 div.sk-label-container {text-align: center;}#sk-container-id-2 div.sk-container {/* jupyter's `normalize.less` sets `[hidden] { display: none; }` but bootstrap.min.css set `[hidden] { display: none !important; }` so we also need the `!important` here to be able to override the default hidden behavior on the sphinx rendered scikit-learn.org. See: https://github.com/scikit-learn/scikit-learn/issues/21755 */display: inline-block !important;position: relative;}#sk-container-id-2 div.sk-text-repr-fallback {display: none;}</style><div id=\"sk-container-id-2\" class=\"sk-top-container\"><div class=\"sk-text-repr-fallback\"><pre>KNeighborsClassifier()</pre><b>In a Jupyter environment, please rerun this cell to show the HTML representation or trust the notebook. <br />On GitHub, the HTML representation is unable to render, please try loading this page with nbviewer.org.</b></div><div class=\"sk-container\" hidden><div class=\"sk-item\"><div class=\"sk-estimator sk-toggleable\"><input class=\"sk-toggleable__control sk-hidden--visually\" id=\"sk-estimator-id-2\" type=\"checkbox\" checked><label for=\"sk-estimator-id-2\" class=\"sk-toggleable__label sk-toggleable__label-arrow\">KNeighborsClassifier</label><div class=\"sk-toggleable__content\"><pre>KNeighborsClassifier()</pre></div></div></div></div></div>"
      ],
      "text/plain": [
       "KNeighborsClassifier()"
      ]
     },
     "execution_count": 35,
     "metadata": {},
     "output_type": "execute_result"
    }
   ],
   "source": [
    "## Buat model untuk k=5\n",
    "knn = KNeighborsClassifier(n_neighbors=5)\n",
    "knn.fit(X_train, y_train) ## train model pakai training sets"
   ]
  },
  {
   "cell_type": "code",
   "execution_count": 36,
   "id": "8333f406-9d3c-491a-bf7d-9904fb66b03a",
   "metadata": {},
   "outputs": [],
   "source": [
    "y_pred = knn.predict(X_test) ## prediksi respon untuk test dataset"
   ]
  },
  {
   "cell_type": "code",
   "execution_count": 37,
   "id": "e2eab9aa-1a9d-4d92-a0ab-c84e024c8e8e",
   "metadata": {},
   "outputs": [
    {
     "name": "stdout",
     "output_type": "stream",
     "text": [
      "Accuracy : 0.8850405305821666\n"
     ]
    }
   ],
   "source": [
    "## menghitung akurasi dengan membandingkan actual test dan predicted values\n",
    "print('Accuracy :', accuracy_score(y_test,y_pred))"
   ]
  },
  {
   "cell_type": "code",
   "execution_count": 38,
   "id": "87e938bb-05b7-4e37-9b65-01973354ac41",
   "metadata": {},
   "outputs": [],
   "source": [
    "## Buat model untuk k=5\n",
    "knn_7 = KNeighborsClassifier(n_neighbors=7)\n",
    "knn_7.fit(X_train,y_train)\n",
    "\n",
    "y_pred_7 = knn.predict(X_test)"
   ]
  },
  {
   "cell_type": "code",
   "execution_count": 39,
   "id": "a792b5b7-3a2f-46a2-b0e8-e8be2edc5815",
   "metadata": {},
   "outputs": [
    {
     "name": "stdout",
     "output_type": "stream",
     "text": [
      "Accuracy : 0.8850405305821666\n"
     ]
    }
   ],
   "source": [
    "from sklearn.metrics import accuracy_score\n",
    "\n",
    "print('Accuracy :', accuracy_score(y_test,y_pred_7))"
   ]
  },
  {
   "cell_type": "code",
   "execution_count": 40,
   "id": "12fd8038-7986-43f9-81fe-387bd5a05a66",
   "metadata": {},
   "outputs": [
    {
     "data": {
      "text/plain": [
       "array(['\"no\"', '\"no\"', '\"no\"', ..., '\"no\"', '\"no\"', '\"yes\"'], dtype=object)"
      ]
     },
     "execution_count": 40,
     "metadata": {},
     "output_type": "execute_result"
    }
   ],
   "source": [
    "y_pred"
   ]
  },
  {
   "cell_type": "code",
   "execution_count": 41,
   "id": "f0cb77fe-71d2-4541-bc9c-be355f47feca",
   "metadata": {},
   "outputs": [],
   "source": [
    "## Improve model untuk mengetahui nilai k yang optimal\n",
    "\n",
    "error= []\n",
    "## menghitung error untuk k antara 1 sampai 40\n",
    "for i in range(1,40):\n",
    "    knn = KNeighborsClassifier(n_neighbors=i)\n",
    "    knn.fit(X_train,y_train)\n",
    "    pred_i=knn.predict(X_test)\n",
    "    error.append(np.mean(pred_i != y_test))"
   ]
  },
  {
   "cell_type": "code",
   "execution_count": 42,
   "id": "585662b6-9cad-46e1-aca8-0ab8e514a337",
   "metadata": {},
   "outputs": [
    {
     "data": {
      "text/plain": [
       "Text(0, 0.5, 'Error Rate')"
      ]
     },
     "execution_count": 42,
     "metadata": {},
     "output_type": "execute_result"
    },
    {
     "data": {
      "image/png": "[encoded data removed]",
      "text/plain": [
       "<Figure size 1200x600 with 1 Axes>"
      ]
     },
     "metadata": {},
     "output_type": "display_data"
    }
   ],
   "source": [
    "plt.figure(figsize=(12,6))\n",
    "plt.plot(range(1,40),error, color='red',linestyle='dashed',marker='o', markerfacecolor='blue',markersize=12)\n",
    "plt.title('Error rate K')\n",
    "plt.xlabel('K')\n",
    "plt.ylabel('Error Rate')"
   ]
  },
  {
   "cell_type": "markdown",
   "id": "6e92d5fc-ac68-44b3-9622-f9011b08e848",
   "metadata": {},
   "source": [
    "Dapat dilihat dari plot di atas, bahwa error terkecil yang kita dapat adalah di bawah angka 0.1 yaitu pada K = 8"
   ]
  },
  {
   "cell_type": "code",
   "execution_count": 43,
   "id": "46db4578-67df-4920-b78c-b0b534533edc",
   "metadata": {},
   "outputs": [
    {
     "name": "stdout",
     "output_type": "stream",
     "text": [
      "Accuracy: 0.887988209285188\n"
     ]
    }
   ],
   "source": [
    "knn_8 = KNeighborsClassifier(n_neighbors=8)\n",
    "knn_8.fit(X_train,y_train)\n",
    "\n",
    "y_pred_8 = knn_8.predict(X_test)\n",
    "\n",
    "print('Accuracy:', accuracy_score(y_test,y_pred_8) )\n"
   ]
  },
  {
   "cell_type": "code",
   "execution_count": 44,
   "id": "935d94eb-09b1-483e-982e-0212061d3f3b",
   "metadata": {},
   "outputs": [],
   "source": [
    "from sklearn.preprocessing import StandardScaler\n",
    "scaler = StandardScaler()"
   ]
  },
  {
   "cell_type": "code",
   "execution_count": 45,
   "id": "3cd388c2-8880-47dc-8737-7ed7d8f3f55f",
   "metadata": {},
   "outputs": [],
   "source": [
    "X_train_scaled = scaler.fit_transform(X_train)\n",
    "X_test_scaled = scaler.transform(X_test)"
   ]
  },
  {
   "cell_type": "code",
   "execution_count": 46,
   "id": "0ae80e9e-cf71-4043-9180-2d2bca6c3bff",
   "metadata": {},
   "outputs": [
    {
     "name": "stdout",
     "output_type": "stream",
     "text": [
      "Accuracy: 0.8872512896094326\n"
     ]
    }
   ],
   "source": [
    "knn_8 = KNeighborsClassifier(n_neighbors=8)\n",
    "knn_8.fit(X_train_scaled,y_train)\n",
    "y_pred_8_scaled = knn_8.predict(X_test_scaled)\n",
    "print('Accuracy:', accuracy_score(y_test,y_pred_8_scaled) )"
   ]
  },
  {
   "cell_type": "code",
   "execution_count": 47,
   "id": "0a1ac991-56ef-4914-a20c-fc9d2414a85e",
   "metadata": {},
   "outputs": [],
   "source": [
    "y_pred_train = knn_8.predict(X_train_scaled)\n",
    "y_pred_test = knn_8.predict(X_test_scaled)"
   ]
  },
  {
   "cell_type": "code",
   "execution_count": 48,
   "id": "d0c93083-b206-46a6-b3f5-a5c754b888a2",
   "metadata": {},
   "outputs": [
    {
     "name": "stdout",
     "output_type": "stream",
     "text": [
      "Train Set\n",
      "              precision    recall  f1-score   support\n",
      "\n",
      "        \"no\"       0.90      1.00      0.95      2804\n",
      "       \"yes\"       0.82      0.16      0.27       360\n",
      "\n",
      "    accuracy                           0.90      3164\n",
      "   macro avg       0.86      0.58      0.61      3164\n",
      "weighted avg       0.89      0.90      0.87      3164\n",
      "\n",
      "Test Set\n",
      "              precision    recall  f1-score   support\n",
      "\n",
      "        \"no\"       0.89      0.99      0.94      1196\n",
      "       \"yes\"       0.64      0.11      0.19       161\n",
      "\n",
      "    accuracy                           0.89      1357\n",
      "   macro avg       0.77      0.55      0.56      1357\n",
      "weighted avg       0.86      0.89      0.85      1357\n",
      "\n"
     ]
    }
   ],
   "source": [
    "print('Train Set')\n",
    "print(classification_report(y_train,y_pred_train))\n",
    "print('Test Set')\n",
    "print(classification_report(y_test,y_pred_test))"
   ]
  },
  {
   "cell_type": "markdown",
   "id": "fffcd0c5-0d0e-48ea-bf2d-82b225f1240c",
   "metadata": {},
   "source": [
    "## Naive Bayes"
   ]
  },
  {
   "cell_type": "code",
   "execution_count": 49,
   "id": "b218e5f8-e1d4-4add-a015-bb1ba5aed8f2",
   "metadata": {},
   "outputs": [],
   "source": [
    "from sklearn.naive_bayes import GaussianNB\n",
    "X_train, X_test, y_train, y_test = train_test_split(X,y, test_size=0.3 , random_state=2024)"
   ]
  },
  {
   "cell_type": "code",
   "execution_count": 50,
   "id": "29bb32c7-f10f-4e15-8c24-6ec843849ed9",
   "metadata": {},
   "outputs": [],
   "source": [
    "gnb = GaussianNB()\n",
    "gnb.fit(X_train,y_train)\n",
    "y_pred_test = gnb.predict(X_test)"
   ]
  },
  {
   "cell_type": "code",
   "execution_count": 51,
   "id": "549b24cd-a565-4553-9917-b06ba3fe4f55",
   "metadata": {},
   "outputs": [
    {
     "data": {
      "text/plain": [
       "array(['\"no\"', '\"no\"', '\"no\"', ..., '\"no\"', '\"no\"', '\"no\"'], dtype='<U5')"
      ]
     },
     "execution_count": 51,
     "metadata": {},
     "output_type": "execute_result"
    }
   ],
   "source": [
    "y_pred_test"
   ]
  },
  {
   "cell_type": "code",
   "execution_count": 52,
   "id": "0c96ee90-6b3b-40cc-909a-306b88b46fa1",
   "metadata": {},
   "outputs": [
    {
     "data": {
      "text/plain": [
       "3994     \"no\"\n",
       "4320     \"no\"\n",
       "1125     \"no\"\n",
       "4429     \"no\"\n",
       "3036    \"yes\"\n",
       "        ...  \n",
       "158      \"no\"\n",
       "844      \"no\"\n",
       "2385     \"no\"\n",
       "597      \"no\"\n",
       "984     \"yes\"\n",
       "Name: y, Length: 1357, dtype: object"
      ]
     },
     "execution_count": 52,
     "metadata": {},
     "output_type": "execute_result"
    }
   ],
   "source": [
    "y_test"
   ]
  },
  {
   "cell_type": "code",
   "execution_count": 53,
   "id": "5e7c8937-1c7a-4630-af26-b48419e73e66",
   "metadata": {},
   "outputs": [],
   "source": [
    "y_pred_train = gnb.predict(X_train)\n",
    "y_pred_test = gnb.predict(X_test)\n"
   ]
  },
  {
   "cell_type": "code",
   "execution_count": 54,
   "id": "984b8e29-3f8a-4b0f-b649-9136d9093077",
   "metadata": {},
   "outputs": [],
   "source": [
    "from sklearn.metrics import accuracy_score, precision_score, recall_score"
   ]
  },
  {
   "cell_type": "code",
   "execution_count": 55,
   "id": "dd3646f2-c11b-4cc9-abc3-35f1d10a236f",
   "metadata": {},
   "outputs": [
    {
     "name": "stdout",
     "output_type": "stream",
     "text": [
      "Train Set Accuracy :  0.8400758533501896\n",
      "Test Set Accuracy :  0.8378776713338246\n"
     ]
    }
   ],
   "source": [
    "print('Train Set Accuracy : ', accuracy_score(y_train,y_pred_train))\n",
    "print('Test Set Accuracy : ', accuracy_score(y_test,y_pred_test))"
   ]
  },
  {
   "cell_type": "code",
   "execution_count": 56,
   "id": "d26193e4-595d-4c64-83e8-0a2199bc3e4a",
   "metadata": {},
   "outputs": [
    {
     "name": "stdout",
     "output_type": "stream",
     "text": [
      "Train Set \n",
      " Classification Report               precision    recall  f1-score   support\n",
      "\n",
      "        \"no\"       0.92      0.90      0.91      2804\n",
      "       \"yes\"       0.33      0.41      0.37       360\n",
      "\n",
      "    accuracy                           0.84      3164\n",
      "   macro avg       0.63      0.65      0.64      3164\n",
      "weighted avg       0.85      0.84      0.85      3164\n",
      "\n",
      "Test Set \n",
      " Classification Report               precision    recall  f1-score   support\n",
      "\n",
      "        \"no\"       0.92      0.89      0.91      1196\n",
      "       \"yes\"       0.35      0.42      0.38       161\n",
      "\n",
      "    accuracy                           0.84      1357\n",
      "   macro avg       0.63      0.66      0.64      1357\n",
      "weighted avg       0.85      0.84      0.84      1357\n",
      "\n"
     ]
    }
   ],
   "source": [
    "print('Train Set \\n Classification Report',classification_report(y_train,y_pred_train))\n",
    "print('Test Set \\n Classification Report', classification_report(y_test,y_pred_test))"
   ]
  },
  {
   "cell_type": "markdown",
   "id": "7593a9cf-1dfa-43e9-80e6-aab17ca107ad",
   "metadata": {},
   "source": [
    "## Decision Tree"
   ]
  },
  {
   "cell_type": "code",
   "execution_count": 57,
   "id": "03326afe-3fa1-4008-b3d1-d4128ff33e00",
   "metadata": {},
   "outputs": [],
   "source": [
    "from sklearn.tree import DecisionTreeClassifier\n",
    "\n",
    "from sklearn.model_selection import train_test_split"
   ]
  },
  {
   "cell_type": "code",
   "execution_count": 58,
   "id": "57abc6e2-24dd-4292-a308-a9854bc32a8c",
   "metadata": {},
   "outputs": [],
   "source": [
    "X_train, X_test, y_train, y_test = train_test_split(X,y,test_size=0.3,random_state=2024)"
   ]
  },
  {
   "cell_type": "code",
   "execution_count": 59,
   "id": "1d592bff-37a0-4dcc-b86b-f20fb0ce6d88",
   "metadata": {},
   "outputs": [],
   "source": [
    "## Buat model\n",
    "\n",
    "dtc = DecisionTreeClassifier(max_depth=3)\n",
    "\n",
    "dtc.fit(X_train,y_train)\n",
    "\n",
    "y_pred_train = dtc.predict(X_train)\n",
    "y_pred_test = dtc.predict(X_test)"
   ]
  },
  {
   "cell_type": "code",
   "execution_count": 60,
   "id": "206e075f-cb3c-4383-ab16-aa585c802a7d",
   "metadata": {},
   "outputs": [
    {
     "name": "stdout",
     "output_type": "stream",
     "text": [
      "Train set \n",
      "               precision    recall  f1-score   support\n",
      "\n",
      "        \"no\"       0.92      0.97      0.94      2804\n",
      "       \"yes\"       0.58      0.30      0.40       360\n",
      "\n",
      "    accuracy                           0.90      3164\n",
      "   macro avg       0.75      0.64      0.67      3164\n",
      "weighted avg       0.88      0.90      0.88      3164\n",
      "\n",
      "Test set \n",
      "               precision    recall  f1-score   support\n",
      "\n",
      "        \"no\"       0.91      0.96      0.94      1196\n",
      "       \"yes\"       0.55      0.32      0.41       161\n",
      "\n",
      "    accuracy                           0.89      1357\n",
      "   macro avg       0.73      0.64      0.67      1357\n",
      "weighted avg       0.87      0.89      0.88      1357\n",
      "\n"
     ]
    }
   ],
   "source": [
    "print('Train set \\n', classification_report(y_train,y_pred_train))\n",
    "print('Test set \\n', classification_report(y_test,y_pred_test))"
   ]
  },
  {
   "cell_type": "markdown",
   "id": "66fc0769-5b25-416b-8cbf-73040c5ad07f",
   "metadata": {},
   "source": [
    "### Visualisasi Decision Tree "
   ]
  },
  {
   "cell_type": "code",
   "execution_count": 61,
   "id": "b5e464e4-f910-4fe0-9578-6715887c94b1",
   "metadata": {},
   "outputs": [],
   "source": [
    "import sklearn.tree as tree\n",
    "import pydotplus\n",
    "from six import StringIO\n",
    "from IPython.display import Image"
   ]
  },
  {
   "cell_type": "code",
   "execution_count": 62,
   "id": "4325bb21-846f-4578-be65-54c7c7d2257b",
   "metadata": {},
   "outputs": [],
   "source": [
    "feature_names = list(X.columns)"
   ]
  },
  {
   "cell_type": "code",
   "execution_count": 63,
   "id": "b0eb29b4-6c1a-4d5c-83f5-3e5ae95f73e7",
   "metadata": {},
   "outputs": [
    {
     "data": {
      "image/png": "[encoded data removed]",
      "text/plain": [
       "<IPython.core.display.Image object>"
      ]
     },
     "execution_count": 63,
     "metadata": {},
     "output_type": "execute_result"
    }
   ],
   "source": [
    "dot_data = StringIO()\n",
    "\n",
    "tree.export_graphviz(dtc, out_file=dot_data,\n",
    "                     class_names=['0','1'], # nama target\n",
    "                     feature_names = feature_names,\n",
    "                     filled=True,\n",
    "                     rounded=True,\n",
    "                     special_characters=True)\n",
    "graph  = pydotplus.graph_from_dot_data(dot_data.getvalue())\n",
    "\n",
    "Image(graph.create_png())"
   ]
  },
  {
   "cell_type": "markdown",
   "id": "43a5ef9b-4a8a-4584-ba01-6aaec7a7e26f",
   "metadata": {},
   "source": [
    "## Random Forest"
   ]
  },
  {
   "cell_type": "code",
   "execution_count": 64,
   "id": "e3291f02-5a6c-4b21-8bee-fcd15c5dd3d1",
   "metadata": {},
   "outputs": [],
   "source": [
    "## SPLITTING\n",
    "X_train,X_test,y_train,y_test = train_test_split(X,y,test_size=0.3,random_state=2024)"
   ]
  },
  {
   "cell_type": "code",
   "execution_count": 65,
   "id": "a2039d5e-1825-4978-943b-45aaa532f2d6",
   "metadata": {},
   "outputs": [],
   "source": [
    "## TRAINING DATA\n",
    "from sklearn.ensemble import RandomForestClassifier\n",
    "\n",
    "rfc  = RandomForestClassifier(n_estimators=100)\n",
    "\n",
    "rfc.fit(X_train,y_train)\n",
    "\n",
    "y_pred_train = rfc.predict(X_train)\n",
    "y_pred_test  = rfc.predict(X_test)"
   ]
  },
  {
   "cell_type": "code",
   "execution_count": 66,
   "id": "c746bde3-3286-46fc-9b7f-c956e825191f",
   "metadata": {},
   "outputs": [
    {
     "name": "stdout",
     "output_type": "stream",
     "text": [
      "Accuracy :  0.9027266028002948\n"
     ]
    }
   ],
   "source": [
    "##Preiksa akurasi dengan menggunakan nilai aktual dan predicted\n",
    "from sklearn import metrics\n",
    "print('Accuracy : ', metrics.accuracy_score(y_test,y_pred_test))"
   ]
  },
  {
   "cell_type": "code",
   "execution_count": 67,
   "id": "6652cee6-aefc-4db4-8804-66c9d699dba1",
   "metadata": {},
   "outputs": [
    {
     "name": "stdout",
     "output_type": "stream",
     "text": [
      "Train set \n",
      "               precision    recall  f1-score   support\n",
      "\n",
      "        \"no\"       1.00      1.00      1.00      2804\n",
      "       \"yes\"       1.00      1.00      1.00       360\n",
      "\n",
      "    accuracy                           1.00      3164\n",
      "   macro avg       1.00      1.00      1.00      3164\n",
      "weighted avg       1.00      1.00      1.00      3164\n",
      "\n",
      "Test set \n",
      "               precision    recall  f1-score   support\n",
      "\n",
      "        \"no\"       0.92      0.98      0.95      1196\n",
      "       \"yes\"       0.68      0.34      0.45       161\n",
      "\n",
      "    accuracy                           0.90      1357\n",
      "   macro avg       0.80      0.66      0.70      1357\n",
      "weighted avg       0.89      0.90      0.89      1357\n",
      "\n"
     ]
    }
   ],
   "source": [
    "print('Train set \\n',classification_report(y_train,y_pred_train))\n",
    "print('Test set \\n', classification_report(y_test,y_pred_test))"
   ]
  },
  {
   "cell_type": "markdown",
   "id": "455465a0-12b4-4e2a-8b2a-d16525bb781e",
   "metadata": {},
   "source": [
    "### Feature Importance"
   ]
  },
  {
   "cell_type": "code",
   "execution_count": 68,
   "id": "efe93a2e-2754-43fb-abbf-bc6b889b6b0d",
   "metadata": {},
   "outputs": [
    {
     "data": {
      "text/plain": [
       "['age',\n",
       " 'job',\n",
       " 'marital',\n",
       " 'education',\n",
       " 'default',\n",
       " 'balance',\n",
       " 'housing',\n",
       " 'loan',\n",
       " 'contact',\n",
       " 'day',\n",
       " 'month',\n",
       " 'duration',\n",
       " 'campaign',\n",
       " 'pdays',\n",
       " 'previous',\n",
       " 'poutcome']"
      ]
     },
     "execution_count": 68,
     "metadata": {},
     "output_type": "execute_result"
    }
   ],
   "source": [
    "feature_names"
   ]
  },
  {
   "cell_type": "code",
   "execution_count": 69,
   "id": "c859ef44-8a95-4d92-a345-9b787e54ca7c",
   "metadata": {},
   "outputs": [],
   "source": [
    "f_i = rfc.feature_importances_"
   ]
  },
  {
   "cell_type": "code",
   "execution_count": 70,
   "id": "b9f4795d-a9bb-46ef-ab68-b48a96f47bd4",
   "metadata": {},
   "outputs": [],
   "source": [
    "feature_imp = pd.Series(f_i,index=feature_names)"
   ]
  },
  {
   "cell_type": "code",
   "execution_count": 71,
   "id": "08ad3b2b-41ec-4d84-999e-dc5c40bdc124",
   "metadata": {},
   "outputs": [
    {
     "data": {
      "text/plain": [
       "duration     0.281907\n",
       "age          0.108394\n",
       "balance      0.104637\n",
       "day          0.097528\n",
       "month        0.084422\n",
       "pdays        0.049139\n",
       "job          0.047945\n",
       "poutcome     0.042557\n",
       "campaign     0.039059\n",
       "education    0.031984\n",
       "marital      0.028238\n",
       "previous     0.025172\n",
       "contact      0.023221\n",
       "housing      0.022360\n",
       "loan         0.008770\n",
       "default      0.004666\n",
       "dtype: float64"
      ]
     },
     "execution_count": 71,
     "metadata": {},
     "output_type": "execute_result"
    }
   ],
   "source": [
    "feature_imp = feature_imp.sort_values(ascending=False)\n",
    "feature_imp"
   ]
  },
  {
   "cell_type": "code",
   "execution_count": 72,
   "id": "e1e94187-630b-4343-9036-7d3094126bd2",
   "metadata": {},
   "outputs": [
    {
     "name": "stderr",
     "output_type": "stream",
     "text": [
      "No artists with labels found to put in legend.  Note that artists whose label start with an underscore are ignored when legend() is called with no argument.\n"
     ]
    },
    {
     "data": {
      "image/png": "[encoded data removed]",
      "text/plain": [
       "<Figure size 640x480 with 1 Axes>"
      ]
     },
     "metadata": {},
     "output_type": "display_data"
    }
   ],
   "source": [
    "import matplotlib.pyplot as plt\n",
    "import seaborn as sns\n",
    "\n",
    "sns.barplot(x = feature_imp, y=feature_imp.index)\n",
    "\n",
    "plt.title('Feature Importances of Random Forest')\n",
    "plt.ylabel('Features')\n",
    "plt.xlabel('Feature Importance Score')\n",
    "plt.legend()\n",
    "plt.show()"
   ]
  },
  {
   "cell_type": "code",
   "execution_count": 73,
   "id": "b3184d2b-82d6-4237-bf04-1b98b0289259",
   "metadata": {},
   "outputs": [],
   "source": [
    "## Menghilangkan feature 'default' untuk melihat perubahan akurasi\n",
    "X = df.drop(['default','y'],axis=1)\n",
    "y = df['y']\n",
    "\n",
    "X_train,X_test,y_train,y_test =train_test_split(X,y,test_size=0.3,random_state=2024)"
   ]
  },
  {
   "cell_type": "code",
   "execution_count": 74,
   "id": "d3908e09-5119-4266-9e06-ccccc2801168",
   "metadata": {},
   "outputs": [],
   "source": [
    "rfc2 = RandomForestClassifier(n_estimators=2)\n",
    "rfc2.fit(X_train,y_train)\n",
    "\n",
    "y_pred_train_2 = rfc2.predict(X_train)\n",
    "y_pred_test_2 = rfc2.predict(X_test)"
   ]
  },
  {
   "cell_type": "code",
   "execution_count": 81,
   "id": "1b2a9d64-4a2a-4de5-a4a2-6d6cb3883d00",
   "metadata": {},
   "outputs": [
    {
     "name": "stdout",
     "output_type": "stream",
     "text": [
      "train 2 \n",
      "               precision    recall  f1-score   support\n",
      "\n",
      "           0       0.95      1.00      0.97      2804\n",
      "           1       0.96      0.55      0.70       360\n",
      "\n",
      "    accuracy                           0.95      3164\n",
      "   macro avg       0.95      0.77      0.84      3164\n",
      "weighted avg       0.95      0.95      0.94      3164\n",
      "\n",
      "test 2 \n",
      "               precision    recall  f1-score   support\n",
      "\n",
      "           0       0.90      0.98      0.94      1196\n",
      "           1       0.59      0.17      0.26       161\n",
      "\n",
      "    accuracy                           0.89      1357\n",
      "   macro avg       0.74      0.58      0.60      1357\n",
      "weighted avg       0.86      0.89      0.86      1357\n",
      "\n"
     ]
    }
   ],
   "source": [
    "print('train 2 \\n',classification_report(y_train,y_pred_train_2))\n",
    "print('test 2 \\n', classification_report(y_test,y_pred_test_2))"
   ]
  },
  {
   "cell_type": "code",
   "execution_count": 82,
   "id": "47a02159-129b-4c7f-8152-47676b79a58b",
   "metadata": {},
   "outputs": [
    {
     "name": "stdout",
     "output_type": "stream",
     "text": [
      "Accuracy :  0.8872512896094326\n"
     ]
    }
   ],
   "source": [
    "print('Accuracy : ', metrics.accuracy_score(y_test,y_pred_test_2))"
   ]
  },
  {
   "cell_type": "markdown",
   "id": "17738ba0-b592-45b1-8b2e-04b0e372b637",
   "metadata": {},
   "source": [
    "Akurasi menurun saat feature default dihilangkan"
   ]
  },
  {
   "cell_type": "markdown",
   "id": "34a75856-4873-4b4b-88e7-ab3fe709d158",
   "metadata": {},
   "source": [
    "## SVM"
   ]
  },
  {
   "cell_type": "code",
   "execution_count": 83,
   "id": "583d12f3-66f7-4681-8e6b-845216cea451",
   "metadata": {},
   "outputs": [],
   "source": [
    "from sklearn.model_selection import train_test_split\n",
    "X_train,X_test,y_train,y_test = train_test_split(X,y,test_size=0.3,random_state=2024)"
   ]
  },
  {
   "cell_type": "code",
   "execution_count": 84,
   "id": "ff4c025a-ab41-4a66-89ba-39329ad5871a",
   "metadata": {},
   "outputs": [],
   "source": [
    "from sklearn.svm import SVC"
   ]
  },
  {
   "cell_type": "code",
   "execution_count": 85,
   "id": "36c66ebd-e2ce-4703-9ad2-b5b929a2cb8f",
   "metadata": {},
   "outputs": [],
   "source": [
    "svc_model = SVC(kernel='linear')\n",
    "\n",
    "svc_model.fit(X_train,y_train)\n",
    "\n",
    "y_pred_train  = svc_model.predict(X_train)\n",
    "y_pred_test= svc_model.predict(X_test)"
   ]
  },
  {
   "cell_type": "code",
   "execution_count": 89,
   "id": "e75740ca",
   "metadata": {},
   "outputs": [
    {
     "name": "stdout",
     "output_type": "stream",
     "text": [
      "train \n",
      "               precision    recall  f1-score   support\n",
      "\n",
      "           0       0.89      1.00      0.94      2804\n",
      "           1       0.00      0.00      0.00       360\n",
      "\n",
      "    accuracy                           0.89      3164\n",
      "   macro avg       0.44      0.50      0.47      3164\n",
      "weighted avg       0.79      0.89      0.83      3164\n",
      "\n",
      "test \n",
      "               precision    recall  f1-score   support\n",
      "\n",
      "           0       0.88      1.00      0.94      1196\n",
      "           1       0.00      0.00      0.00       161\n",
      "\n",
      "    accuracy                           0.88      1357\n",
      "   macro avg       0.44      0.50      0.47      1357\n",
      "weighted avg       0.78      0.88      0.83      1357\n",
      "\n"
     ]
    },
    {
     "name": "stderr",
     "output_type": "stream",
     "text": [
      "G:\\anaconda3\\lib\\site-packages\\sklearn\\metrics\\_classification.py:1344: UndefinedMetricWarning: Precision and F-score are ill-defined and being set to 0.0 in labels with no predicted samples. Use `zero_division` parameter to control this behavior.\n",
      "  _warn_prf(average, modifier, msg_start, len(result))\n",
      "G:\\anaconda3\\lib\\site-packages\\sklearn\\metrics\\_classification.py:1344: UndefinedMetricWarning: Precision and F-score are ill-defined and being set to 0.0 in labels with no predicted samples. Use `zero_division` parameter to control this behavior.\n",
      "  _warn_prf(average, modifier, msg_start, len(result))\n",
      "G:\\anaconda3\\lib\\site-packages\\sklearn\\metrics\\_classification.py:1344: UndefinedMetricWarning: Precision and F-score are ill-defined and being set to 0.0 in labels with no predicted samples. Use `zero_division` parameter to control this behavior.\n",
      "  _warn_prf(average, modifier, msg_start, len(result))\n",
      "G:\\anaconda3\\lib\\site-packages\\sklearn\\metrics\\_classification.py:1344: UndefinedMetricWarning: Precision and F-score are ill-defined and being set to 0.0 in labels with no predicted samples. Use `zero_division` parameter to control this behavior.\n",
      "  _warn_prf(average, modifier, msg_start, len(result))\n",
      "G:\\anaconda3\\lib\\site-packages\\sklearn\\metrics\\_classification.py:1344: UndefinedMetricWarning: Precision and F-score are ill-defined and being set to 0.0 in labels with no predicted samples. Use `zero_division` parameter to control this behavior.\n",
      "  _warn_prf(average, modifier, msg_start, len(result))\n",
      "G:\\anaconda3\\lib\\site-packages\\sklearn\\metrics\\_classification.py:1344: UndefinedMetricWarning: Precision and F-score are ill-defined and being set to 0.0 in labels with no predicted samples. Use `zero_division` parameter to control this behavior.\n",
      "  _warn_prf(average, modifier, msg_start, len(result))\n"
     ]
    }
   ],
   "source": [
    "print('train \\n',classification_report(y_train,y_pred_train))\n",
    "print('test \\n',classification_report(y_test,y_pred_test))"
   ]
  },
  {
   "cell_type": "markdown",
   "id": "6089e016-b55c-4c13-8915-d9c44242d5e0",
   "metadata": {},
   "source": [
    "## Kesimpulan\n",
    "\n",
    "Logistic Regression dapat menjadi pilihan yang baik karena cukup sederhana namun bisa memberikan hasil yang cukup akurat. Selain itu, Logistic Regression bisa memberikan interpretasi yang jelas tentang bagaimana variabel input mempengaruhi probabilitas keluaran (output)."
   ]
  },
  {
   "cell_type": "code",
   "execution_count": null,
   "id": "7a46615a-85c3-43fa-9d37-0ddc6390c87c",
   "metadata": {},
   "outputs": [],
   "source": []
  }
 ],
 "metadata": {
  "kernelspec": {
   "display_name": "Python 3 (ipykernel)",
   "language": "python",
   "name": "python3"
  },
  "language_info": {
   "codemirror_mode": {
    "name": "ipython",
    "version": 3
   },
   "file_extension": ".py",
   "mimetype": "text/x-python",
   "name": "python",
   "nbconvert_exporter": "python",
   "pygments_lexer": "ipython3",
   "version": "3.9.13"
  }
 },
 "nbformat": 4,
 "nbformat_minor": 5
}
