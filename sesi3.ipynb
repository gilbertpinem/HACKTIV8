{
 "cells": [
  {
   "cell_type": "code",
   "execution_count": 1,
   "id": "53f0fe43-915e-4ed9-9685-1b3cd4708d5d",
   "metadata": {},
   "outputs": [
    {
     "name": "stdout",
     "output_type": "stream",
     "text": [
      "This is the string of the  function\n",
      "Apakah ini nyata\n"
     ]
    }
   ],
   "source": [
    "def my_function(str):\n",
    "    \"This is a string\"\n",
    "    print(str)\n",
    "    return\n",
    "my_function(\"This is the string of the  function\")\n",
    "my_function(\"Apakah ini nyata\")\n"
   ]
  },
  {
   "cell_type": "code",
   "execution_count": 2,
   "id": "88fe3891-1e48-4f79-8e52-cd65b50f7653",
   "metadata": {},
   "outputs": [
    {
     "name": "stdin",
     "output_type": "stream",
     "text": [
      "Masukkan a :  123\n",
      "NMasukkan b :  123\n"
     ]
    },
    {
     "name": "stdout",
     "output_type": "stream",
     "text": [
      "Hasil Penjumlahan Adalah :  246\n"
     ]
    }
   ],
   "source": [
    "def tambah(a,b):\n",
    "    return a+b\n",
    "\n",
    "a = int(input(\"Masukkan a : \"))\n",
    "b= int(input(\"NMasukkan b : \"))\n",
    "\n",
    "print(\"Hasil Penjumlahan Adalah : \", tambah(a,b)) "
   ]
  },
  {
   "cell_type": "code",
   "execution_count": 28,
   "id": "2c678750-f9ed-4afc-a2bf-cb7132d32e67",
   "metadata": {},
   "outputs": [
    {
     "name": "stdout",
     "output_type": "stream",
     "text": [
      "Values of this function : [10, 20, 30, [1, 2, 3, 4]]\n",
      "Values of this function : [10, 20, 30, [1, 2, 3, 4]]\n"
     ]
    }
   ],
   "source": [
    "def changeme(mylist):\n",
    "    \"This is change a passed list into this function\"\n",
    "    mylist.append([1,2,3,4]);\n",
    "    print(\"Values of this function :\" , mylist)\n",
    "    return\n",
    "\n",
    "mylist = [10,20,30];\n",
    "changeme(mylist);\n",
    "print(\"Values of this function :\" , mylist)"
   ]
  },
  {
   "cell_type": "code",
   "execution_count": 23,
   "id": "4b626d00-e2df-434d-b2e5-6ec02419b435",
   "metadata": {},
   "outputs": [
    {
     "name": "stdout",
     "output_type": "stream",
     "text": [
      "Values inside function : [1, 2, 3, 4]\n",
      "Values outside the function : [10, 20, 30]\n"
     ]
    }
   ],
   "source": [
    "def changeme(mylist):\n",
    "    \"This is change a passed list into this function\"\n",
    "    mylist=[1,2,3,4];\n",
    "    print(\"Values inside function :\" , mylist)\n",
    "    return\n",
    "\n",
    "mylist = [10,20,30];\n",
    "changeme(mylist);\n",
    "print(\"Values outside the function :\" , mylist)"
   ]
  },
  {
   "cell_type": "markdown",
   "id": "0092135c-6710-427e-9000-ea4941648fa6",
   "metadata": {},
   "source": [
    "##\n",
    "## Function Argument\n"
   ]
  },
  {
   "cell_type": "markdown",
   "id": "4c9842ba-2cb7-45ee-bca6-5b7ec242cf6b",
   "metadata": {},
   "source": [
    "1. Requirement Argument"
   ]
  },
  {
   "cell_type": "markdown",
   "id": "26b7eddf-3fa8-4e59-bb75-7f9d7b1c8fb4",
   "metadata": {},
   "source": [
    "Jumlah Argumen dalam function definition harus sama dengan jumlah argument saat pemanggilan funtion"
   ]
  },
  {
   "cell_type": "code",
   "execution_count": 34,
   "id": "927515cd-8147-4286-81bf-b48f45e2006a",
   "metadata": {},
   "outputs": [
    {
     "name": "stdout",
     "output_type": "stream",
     "text": [
      "Apa lihat lihat\n"
     ]
    }
   ],
   "source": [
    "def printstr(str):\n",
    "    \"Ini mengembalikan print str pada function\"\n",
    "    print(str)\n",
    "    return\n",
    "printstr(\"Apa lihat lihat\")"
   ]
  },
  {
   "cell_type": "code",
   "execution_count": 38,
   "id": "427c837f-be75-4add-b859-3da70a7bf25a",
   "metadata": {},
   "outputs": [
    {
     "name": "stdout",
     "output_type": "stream",
     "text": [
      "Name  : Gilbert\n",
      "Age   : 21\n"
     ]
    }
   ],
   "source": [
    " def printinfo(name,age):\n",
    "        \"This prints pass info to the function\"\n",
    "        print(\"Name  :\", name)\n",
    "        print(\"Age   :\" , age)\n",
    "        return \n",
    "    \n",
    "printinfo(name ='Gilbert', age=21)"
   ]
  },
  {
   "cell_type": "code",
   "execution_count": null,
   "id": "27730fa3-217d-466d-bcc4-01646c6a4d63",
   "metadata": {},
   "outputs": [],
   "source": []
  },
  {
   "cell_type": "markdown",
   "id": "3ca3d347-bbd1-45f7-88a4-f031aa457c5d",
   "metadata": {},
   "source": [
    "#### Default Arguments"
   ]
  },
  {
   "cell_type": "code",
   "execution_count": 47,
   "id": "038aa6e6-9d85-430c-9c6e-779857fcce26",
   "metadata": {},
   "outputs": [
    {
     "name": "stdout",
     "output_type": "stream",
     "text": [
      "Name    : Gilbert\n",
      "Age     : 21\n",
      "College : Brawijaya University\n",
      "Name    : Angie\n",
      "Age     : 21\n",
      "College : Brawijaya University\n"
     ]
    }
   ],
   "source": [
    " def printinfo(name,age=21,college = 'Brawijaya University' ):\n",
    "        \"This prints pass info to the function\"\n",
    "        print(\"Name    :\", name)\n",
    "        print(\"Age     :\" , age)\n",
    "        print('College :', college)\n",
    "        return \n",
    "    \n",
    "printinfo(name ='Gilbert', age=21)\n",
    "printinfo(name = 'Angie')"
   ]
  },
  {
   "cell_type": "code",
   "execution_count": null,
   "id": "209abb3b-6165-4245-8a1b-825edf1585f0",
   "metadata": {},
   "outputs": [],
   "source": []
  },
  {
   "cell_type": "markdown",
   "id": "be7ae73d-8dc0-4b4f-beee-138e80399885",
   "metadata": {},
   "source": [
    "Variable length arguments\n",
    "Disaat argumen jumlahnya tidak pasti ( terdapat argumen selain require dan default)"
   ]
  },
  {
   "cell_type": "code",
   "execution_count": 57,
   "id": "c89d4755-4d68-459d-9c98-912a475f43be",
   "metadata": {},
   "outputs": [
    {
     "name": "stdout",
     "output_type": "stream",
     "text": [
      "The output is :\n",
      "10\n",
      "The output is :\n",
      "10\n",
      "30\n",
      "46\n",
      "50\n",
      "a\n"
     ]
    }
   ],
   "source": [
    "def printinfo(arg1, *vartuple) : \n",
    "    \"This print a variable pass to arguments\"\n",
    "    print('The output is :')\n",
    "    print(arg1)\n",
    "    for var in vartuple:\n",
    "        print(var)\n",
    "    return;\n",
    "printinfo(10)\n",
    "printinfo(10, 30, 46, 50,'a')"
   ]
  },
  {
   "cell_type": "code",
   "execution_count": 71,
   "id": "89bff065-154f-4a94-b0c7-704eb429c02b",
   "metadata": {},
   "outputs": [
    {
     "name": "stdout",
     "output_type": "stream",
     "text": [
      "Value total : 30\n",
      "Hasil perkalian :  200\n"
     ]
    }
   ],
   "source": [
    "tambah = lambda arg1, arg2 : arg1 + arg2;\n",
    "kali = lambda arg1,arg2 : arg1 * arg2;\n",
    "\n",
    "# def sum(arg1, arg2):\n",
    "#     arg1 + arg2\n",
    "\n",
    "print('Hasil penjumlahan :', tambah( 10 , 20 ))\n",
    "print('Hasil perkalian : ', kali(10,20))\n"
   ]
  },
  {
   "cell_type": "code",
   "execution_count": null,
   "id": "b360b730-0439-4d58-9306-62f1440ee98b",
   "metadata": {},
   "outputs": [],
   "source": []
  },
  {
   "cell_type": "code",
   "execution_count": null,
   "id": "cb06c29c-96a9-4052-b295-89084677b15a",
   "metadata": {},
   "outputs": [],
   "source": [
    "# eceknya kalkulator"
   ]
  },
  {
   "cell_type": "code",
   "execution_count": 1,
   "id": "cc4a126b-1f70-4500-b53c-d3a8fdcd59bb",
   "metadata": {},
   "outputs": [
    {
     "name": "stdout",
     "output_type": "stream",
     "text": [
      "Pilih operasi : \n",
      "1. Tambah\n",
      "2. Kurang\n",
      "3. Kali\n",
      "4. Bagi\n"
     ]
    },
    {
     "name": "stdin",
     "output_type": "stream",
     "text": [
      "Masukkan Pilihan :  12\n"
     ]
    },
    {
     "name": "stdout",
     "output_type": "stream",
     "text": [
      "Operasi tidak tersedia\n",
      "<class 'ValueError'>\n"
     ]
    },
    {
     "name": "stdin",
     "output_type": "stream",
     "text": [
      "Masukkan Pilihan :  1\n",
      "Masukkan angka pertama : 12\n",
      "Masukkan angka kedua : 12\n"
     ]
    },
    {
     "name": "stdout",
     "output_type": "stream",
     "text": [
      "Hasil penjumlahan =  24\n"
     ]
    }
   ],
   "source": [
    "tambah = lambda arg1, arg2 : arg1 + arg2\n",
    "kali = lambda arg1,arg2 : arg1 * arg2\n",
    "kurang = lambda arg1,arg2 : arg1 - arg2\n",
    "bagi = lambda arg1,arg2 : arg1 / arg2\n",
    "\n",
    "print(\"Pilih operasi : \" )\n",
    "print(\"1. Tambah\")\n",
    "print(\"2. Kurang\")\n",
    "print(\"3. Kali\")\n",
    "print(\"4. Bagi\")\n",
    "        \n",
    "while True :\n",
    "    pilihan = int(input(\"Masukkan Pilihan : \"))\n",
    "    if pilihan>=1 and pilihan<=4:\n",
    "        break\n",
    "    print(\"Operasi tidak tersedia\")\n",
    "    print(ValueError)\n",
    "    \n",
    "if pilihan in range(1,5):\n",
    "    arg1 = int(input('Masukkan angka pertama :'))\n",
    "    arg2 = int(input('Masukkan angka kedua :'))\n",
    "    \n",
    "if pilihan==1:\n",
    "    print(\"Hasil penjumlahan = \", tambah(arg1,arg2))\n",
    "elif pilihan==2:\n",
    "    print(\"Hasil pengurangan = \", kurang(arg1,arg2))\n",
    "elif pilihan==3 :\n",
    "    print(\"Hasil perkalian = \", kali(arg1,arg2))\n",
    "else:\n",
    "    print(\"Hasil pembagian = \", bagi(arg1,arg2))\n"
   ]
  },
  {
   "cell_type": "code",
   "execution_count": 5,
   "id": "d52c450c-bbd0-4a89-8841-b8567f0d25be",
   "metadata": {},
   "outputs": [
    {
     "name": "stdout",
     "output_type": "stream",
     "text": [
      "Hasil hitungan adalah :  812.0\n"
     ]
    }
   ],
   "source": [
    "def hitungan(a):\n",
    "    return a*150/2+515-1203\n",
    "\n",
    "print('Hasil hitungan adalah : ',hitungan(20))"
   ]
  },
  {
   "cell_type": "code",
   "execution_count": 17,
   "id": "934da5dd-f3c4-4cc6-9ff3-df8ffee8029f",
   "metadata": {},
   "outputs": [
    {
     "name": "stdout",
     "output_type": "stream",
     "text": [
      "nakam uam ayas\n"
     ]
    }
   ],
   "source": [
    "def terbalik(str1,str2,str3):\n",
    "    gabung = (str1 + ' ' + str2 + ' ' + str3) [::-1]\n",
    "    # balik = gabung[::-1]\n",
    "    return gabung.lower()\n",
    "\n",
    "print(terbalik('Saya', 'Mau', 'Makan'))"
   ]
  },
  {
   "cell_type": "code",
   "execution_count": null,
   "id": "e1f4d78b-9e9a-4871-a737-61f71d6649d8",
   "metadata": {},
   "outputs": [],
   "source": []
  },
  {
   "cell_type": "code",
   "execution_count": 33,
   "id": "8c6d29ba-1739-4407-845c-f0d2aeebf1bc",
   "metadata": {
    "tags": []
   },
   "outputs": [
    {
     "name": "stdout",
     "output_type": "stream",
     "text": [
      "Total angka ganjil :  8\n",
      "Total angka genap :  5\n",
      "Sum angka ganjil :  282\n",
      "Sum angka genap :  116\n"
     ]
    }
   ],
   "source": [
    "def fungsilah(listlah):\n",
    "    tot_ganjil=0 # Placeholder yang mengcontain value. Karna belum diisi, 0 tidak akan berpengaruh dalam penjumlahan\n",
    "    tot_genap = 0\n",
    "    sum_ganjil = 0\n",
    "    sum_genap = 0\n",
    "    \n",
    "    for i in listlah:\n",
    "        if i%2==0:\n",
    "            tot_genap +=1\n",
    "            sum_genap += i\n",
    "        else :\n",
    "            tot_ganjil +=1\n",
    "            sum_ganjil +=i\n",
    "    \n",
    "    print(\"Total angka ganjil : \", tot_ganjil)\n",
    "    print(\"Total angka genap : \", tot_genap)\n",
    "    print(\"Sum angka ganjil : \", sum_ganjil)\n",
    "    print(\"Sum angka genap : \", sum_genap)\n",
    "    \n",
    "listlah = [12,32,11,31,45,1,2,3,4,5,99,87,66]\n",
    "\n",
    "fungsilah(listlah)\n",
    "    "
   ]
  },
  {
   "cell_type": "code",
   "execution_count": 34,
   "id": "53d01fec-5c4a-43eb-8dc1-c96bbdabeb59",
   "metadata": {},
   "outputs": [
    {
     "data": {
      "text/plain": [
       "['In',\n",
       " 'Out',\n",
       " '_',\n",
       " '__',\n",
       " '___',\n",
       " '__builtin__',\n",
       " '__builtins__',\n",
       " '__doc__',\n",
       " '__loader__',\n",
       " '__name__',\n",
       " '__package__',\n",
       " '__spec__',\n",
       " '_dh',\n",
       " '_i',\n",
       " '_i1',\n",
       " '_i10',\n",
       " '_i11',\n",
       " '_i12',\n",
       " '_i13',\n",
       " '_i14',\n",
       " '_i15',\n",
       " '_i16',\n",
       " '_i17',\n",
       " '_i18',\n",
       " '_i19',\n",
       " '_i2',\n",
       " '_i20',\n",
       " '_i21',\n",
       " '_i22',\n",
       " '_i23',\n",
       " '_i24',\n",
       " '_i25',\n",
       " '_i26',\n",
       " '_i27',\n",
       " '_i28',\n",
       " '_i29',\n",
       " '_i3',\n",
       " '_i30',\n",
       " '_i31',\n",
       " '_i32',\n",
       " '_i33',\n",
       " '_i34',\n",
       " '_i4',\n",
       " '_i5',\n",
       " '_i6',\n",
       " '_i7',\n",
       " '_i8',\n",
       " '_i9',\n",
       " '_ih',\n",
       " '_ii',\n",
       " '_iii',\n",
       " '_oh',\n",
       " 'exit',\n",
       " 'fungsilah',\n",
       " 'get_ipython',\n",
       " 'hitungan',\n",
       " 'listlah',\n",
       " 'n',\n",
       " 'quit',\n",
       " 'terbalik']"
      ]
     },
     "execution_count": 34,
     "metadata": {},
     "output_type": "execute_result"
    }
   ],
   "source": [
    "dir()"
   ]
  },
  {
   "cell_type": "code",
   "execution_count": 1,
   "id": "4a04e18d-2512-4414-8916-b57bf666ea47",
   "metadata": {},
   "outputs": [],
   "source": [
    "import numpy as np\n"
   ]
  },
  {
   "cell_type": "code",
   "execution_count": 2,
   "id": "93e556d0-2360-4f62-95ce-dc077e306bea",
   "metadata": {},
   "outputs": [
    {
     "data": {
      "text/plain": [
       "3.0"
      ]
     },
     "execution_count": 2,
     "metadata": {},
     "output_type": "execute_result"
    }
   ],
   "source": [
    "np.sqrt(9)"
   ]
  },
  {
   "cell_type": "code",
   "execution_count": 4,
   "id": "592a55a8-30f3-4965-9178-37698d6574d6",
   "metadata": {},
   "outputs": [
    {
     "ename": "ModuleNotFoundError",
     "evalue": "No module named 'pkg'",
     "output_type": "error",
     "traceback": [
      "\u001b[1;31m---------------------------------------------------------------------------\u001b[0m",
      "\u001b[1;31mModuleNotFoundError\u001b[0m                       Traceback (most recent call last)",
      "\u001b[1;32m~\\AppData\\Local\\Temp\\ipykernel_6220\\2947588035.py\u001b[0m in \u001b[0;36m<module>\u001b[1;34m\u001b[0m\n\u001b[1;32m----> 1\u001b[1;33m \u001b[1;32mimport\u001b[0m \u001b[0mpkg\u001b[0m\u001b[1;33m.\u001b[0m\u001b[0mmod\u001b[0m\u001b[1;33m,\u001b[0m \u001b[0mpkg\u001b[0m\u001b[1;33m.\u001b[0m\u001b[0mfact\u001b[0m\u001b[1;33m\u001b[0m\u001b[1;33m\u001b[0m\u001b[0m\n\u001b[0m\u001b[0;32m      2\u001b[0m \u001b[0mpkg\u001b[0m\u001b[1;33m.\u001b[0m\u001b[0mfact\u001b[0m\u001b[1;33m.\u001b[0m\u001b[0mfact\u001b[0m\u001b[1;33m(\u001b[0m\u001b[1;36m6\u001b[0m\u001b[1;33m)\u001b[0m\u001b[1;33m\u001b[0m\u001b[1;33m\u001b[0m\u001b[0m\n",
      "\u001b[1;31mModuleNotFoundError\u001b[0m: No module named 'pkg'"
     ]
    }
   ],
   "source": [
    "\n"
   ]
  },
  {
   "cell_type": "code",
   "execution_count": null,
   "id": "841004ac-eb45-4401-ad93-770d64f9d64d",
   "metadata": {},
   "outputs": [],
   "source": []
  }
 ],
 "metadata": {
  "kernelspec": {
   "display_name": "Python 3 (ipykernel)",
   "language": "python",
   "name": "python3"
  },
  "language_info": {
   "codemirror_mode": {
    "name": "ipython",
    "version": 3
   },
   "file_extension": ".py",
   "mimetype": "text/x-python",
   "name": "python",
   "nbconvert_exporter": "python",
   "pygments_lexer": "ipython3",
   "version": "3.9.13"
  }
 },
 "nbformat": 4,
 "nbformat_minor": 5
}
